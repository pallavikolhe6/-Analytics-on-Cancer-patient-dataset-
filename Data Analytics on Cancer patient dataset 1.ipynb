{
 "cells": [
  {
   "cell_type": "markdown",
   "id": "4f9b7568-9b35-4fb9-8ae3-13fa7c59eb3f",
   "metadata": {},
   "source": [
    "# Data Analytics on Cancer Patient dataset"
   ]
  },
  {
   "cell_type": "markdown",
   "id": "a8a7d7c9-1c4b-4f02-8563-5c0258b5e1b6",
   "metadata": {},
   "source": [
    "### We are going to perform analytics on house price dataset.\n"
   ]
  },
  {
   "cell_type": "markdown",
   "id": "03dec5d4-2df9-4660-8633-621e1bf729ac",
   "metadata": {},
   "source": [
    "### Import the qequired libraries"
   ]
  },
  {
   "cell_type": "code",
   "execution_count": null,
   "id": "ffe2512d-4ae7-4c68-8aa6-8fe60c86cede",
   "metadata": {},
   "outputs": [],
   "source": [
    "# Import the numerical Python \n",
    "# Numpy is used for performing numerical operations on the different data structures \n",
    "import numpy as np\n",
    "\n",
    "# Import the pandas library\n",
    "# Pandas is used for converting different data structures into pandas dataframe\n",
    "import pandas as pd\n",
    "\n",
    "# Import the seaborn\n",
    "# Seaborn is used to visualize the data structures\n",
    "import seaborn as sns\n",
    "\n",
    "# Import the matplotlib\n",
    "# Matplotlib is the major library utilized for visualization of any data structure\n",
    "import matplotlib.pyplot as plt"
   ]
  },
  {
   "cell_type": "markdown",
   "id": "8da4524a-bc83-47b2-b8c4-7538c28c2e36",
   "metadata": {},
   "source": [
    "### Load the dataset"
   ]
  },
  {
   "cell_type": "code",
   "execution_count": 128,
   "id": "20d23c33-246d-4d2b-b62a-b555618feb1b",
   "metadata": {},
   "outputs": [],
   "source": [
    "# Read the dataset from local\n",
    "df_Cancer_Patient = pd.read_csv('C://Users//Asus//Downloads//cancer patient data sets.csv')"
   ]
  },
  {
   "cell_type": "markdown",
   "id": "bf758286-7649-41d1-ad1e-2ab5b5e5e2ca",
   "metadata": {},
   "source": [
    "### Data overview"
   ]
  },
  {
   "cell_type": "code",
   "execution_count": 131,
   "id": "41c29e4f-37a7-41ab-9247-212c3d1ecb91",
   "metadata": {},
   "outputs": [
    {
     "data": {
      "text/html": [
       "<div>\n",
       "<style scoped>\n",
       "    .dataframe tbody tr th:only-of-type {\n",
       "        vertical-align: middle;\n",
       "    }\n",
       "\n",
       "    .dataframe tbody tr th {\n",
       "        vertical-align: top;\n",
       "    }\n",
       "\n",
       "    .dataframe thead th {\n",
       "        text-align: right;\n",
       "    }\n",
       "</style>\n",
       "<table border=\"1\" class=\"dataframe\">\n",
       "  <thead>\n",
       "    <tr style=\"text-align: right;\">\n",
       "      <th></th>\n",
       "      <th>index</th>\n",
       "      <th>Patient Id</th>\n",
       "      <th>Age</th>\n",
       "      <th>Gender</th>\n",
       "      <th>Air Pollution</th>\n",
       "      <th>Alcohol use</th>\n",
       "      <th>Dust Allergy</th>\n",
       "      <th>OccuPational Hazards</th>\n",
       "      <th>Genetic Risk</th>\n",
       "      <th>chronic Lung Disease</th>\n",
       "      <th>...</th>\n",
       "      <th>Fatigue</th>\n",
       "      <th>Weight Loss</th>\n",
       "      <th>Shortness of Breath</th>\n",
       "      <th>Wheezing</th>\n",
       "      <th>Swallowing Difficulty</th>\n",
       "      <th>Clubbing of Finger Nails</th>\n",
       "      <th>Frequent Cold</th>\n",
       "      <th>Dry Cough</th>\n",
       "      <th>Snoring</th>\n",
       "      <th>Level</th>\n",
       "    </tr>\n",
       "  </thead>\n",
       "  <tbody>\n",
       "    <tr>\n",
       "      <th>0</th>\n",
       "      <td>0</td>\n",
       "      <td>P1</td>\n",
       "      <td>33</td>\n",
       "      <td>1</td>\n",
       "      <td>2</td>\n",
       "      <td>4</td>\n",
       "      <td>5</td>\n",
       "      <td>4</td>\n",
       "      <td>3</td>\n",
       "      <td>2</td>\n",
       "      <td>...</td>\n",
       "      <td>3</td>\n",
       "      <td>4</td>\n",
       "      <td>2</td>\n",
       "      <td>2</td>\n",
       "      <td>3</td>\n",
       "      <td>1</td>\n",
       "      <td>2</td>\n",
       "      <td>3</td>\n",
       "      <td>4</td>\n",
       "      <td>Low</td>\n",
       "    </tr>\n",
       "    <tr>\n",
       "      <th>1</th>\n",
       "      <td>1</td>\n",
       "      <td>P10</td>\n",
       "      <td>17</td>\n",
       "      <td>1</td>\n",
       "      <td>3</td>\n",
       "      <td>1</td>\n",
       "      <td>5</td>\n",
       "      <td>3</td>\n",
       "      <td>4</td>\n",
       "      <td>2</td>\n",
       "      <td>...</td>\n",
       "      <td>1</td>\n",
       "      <td>3</td>\n",
       "      <td>7</td>\n",
       "      <td>8</td>\n",
       "      <td>6</td>\n",
       "      <td>2</td>\n",
       "      <td>1</td>\n",
       "      <td>7</td>\n",
       "      <td>2</td>\n",
       "      <td>Medium</td>\n",
       "    </tr>\n",
       "    <tr>\n",
       "      <th>2</th>\n",
       "      <td>2</td>\n",
       "      <td>P100</td>\n",
       "      <td>35</td>\n",
       "      <td>1</td>\n",
       "      <td>4</td>\n",
       "      <td>5</td>\n",
       "      <td>6</td>\n",
       "      <td>5</td>\n",
       "      <td>5</td>\n",
       "      <td>4</td>\n",
       "      <td>...</td>\n",
       "      <td>8</td>\n",
       "      <td>7</td>\n",
       "      <td>9</td>\n",
       "      <td>2</td>\n",
       "      <td>1</td>\n",
       "      <td>4</td>\n",
       "      <td>6</td>\n",
       "      <td>7</td>\n",
       "      <td>2</td>\n",
       "      <td>High</td>\n",
       "    </tr>\n",
       "    <tr>\n",
       "      <th>3</th>\n",
       "      <td>3</td>\n",
       "      <td>P1000</td>\n",
       "      <td>37</td>\n",
       "      <td>1</td>\n",
       "      <td>7</td>\n",
       "      <td>7</td>\n",
       "      <td>7</td>\n",
       "      <td>7</td>\n",
       "      <td>6</td>\n",
       "      <td>7</td>\n",
       "      <td>...</td>\n",
       "      <td>4</td>\n",
       "      <td>2</td>\n",
       "      <td>3</td>\n",
       "      <td>1</td>\n",
       "      <td>4</td>\n",
       "      <td>5</td>\n",
       "      <td>6</td>\n",
       "      <td>7</td>\n",
       "      <td>5</td>\n",
       "      <td>High</td>\n",
       "    </tr>\n",
       "    <tr>\n",
       "      <th>4</th>\n",
       "      <td>4</td>\n",
       "      <td>P101</td>\n",
       "      <td>46</td>\n",
       "      <td>1</td>\n",
       "      <td>6</td>\n",
       "      <td>8</td>\n",
       "      <td>7</td>\n",
       "      <td>7</td>\n",
       "      <td>7</td>\n",
       "      <td>6</td>\n",
       "      <td>...</td>\n",
       "      <td>3</td>\n",
       "      <td>2</td>\n",
       "      <td>4</td>\n",
       "      <td>1</td>\n",
       "      <td>4</td>\n",
       "      <td>2</td>\n",
       "      <td>4</td>\n",
       "      <td>2</td>\n",
       "      <td>3</td>\n",
       "      <td>High</td>\n",
       "    </tr>\n",
       "  </tbody>\n",
       "</table>\n",
       "<p>5 rows × 26 columns</p>\n",
       "</div>"
      ],
      "text/plain": [
       "   index Patient Id  Age  Gender  Air Pollution  Alcohol use  Dust Allergy  \\\n",
       "0      0         P1   33       1              2            4             5   \n",
       "1      1        P10   17       1              3            1             5   \n",
       "2      2       P100   35       1              4            5             6   \n",
       "3      3      P1000   37       1              7            7             7   \n",
       "4      4       P101   46       1              6            8             7   \n",
       "\n",
       "   OccuPational Hazards  Genetic Risk  chronic Lung Disease  ...  Fatigue  \\\n",
       "0                     4             3                     2  ...        3   \n",
       "1                     3             4                     2  ...        1   \n",
       "2                     5             5                     4  ...        8   \n",
       "3                     7             6                     7  ...        4   \n",
       "4                     7             7                     6  ...        3   \n",
       "\n",
       "   Weight Loss  Shortness of Breath  Wheezing  Swallowing Difficulty  \\\n",
       "0            4                    2         2                      3   \n",
       "1            3                    7         8                      6   \n",
       "2            7                    9         2                      1   \n",
       "3            2                    3         1                      4   \n",
       "4            2                    4         1                      4   \n",
       "\n",
       "   Clubbing of Finger Nails  Frequent Cold  Dry Cough  Snoring   Level  \n",
       "0                         1              2          3        4     Low  \n",
       "1                         2              1          7        2  Medium  \n",
       "2                         4              6          7        2    High  \n",
       "3                         5              6          7        5    High  \n",
       "4                         2              4          2        3    High  \n",
       "\n",
       "[5 rows x 26 columns]"
      ]
     },
     "execution_count": 131,
     "metadata": {},
     "output_type": "execute_result"
    }
   ],
   "source": [
    "# Show the first 5 observation(row) of the data\n",
    "df_Cancer_Patient.head()"
   ]
  },
  {
   "cell_type": "code",
   "execution_count": 133,
   "id": "291cd5b3-593f-4d83-a5e5-00708da50c8b",
   "metadata": {},
   "outputs": [
    {
     "data": {
      "text/html": [
       "<div>\n",
       "<style scoped>\n",
       "    .dataframe tbody tr th:only-of-type {\n",
       "        vertical-align: middle;\n",
       "    }\n",
       "\n",
       "    .dataframe tbody tr th {\n",
       "        vertical-align: top;\n",
       "    }\n",
       "\n",
       "    .dataframe thead th {\n",
       "        text-align: right;\n",
       "    }\n",
       "</style>\n",
       "<table border=\"1\" class=\"dataframe\">\n",
       "  <thead>\n",
       "    <tr style=\"text-align: right;\">\n",
       "      <th></th>\n",
       "      <th>index</th>\n",
       "      <th>Patient Id</th>\n",
       "      <th>Age</th>\n",
       "      <th>Gender</th>\n",
       "      <th>Air Pollution</th>\n",
       "      <th>Alcohol use</th>\n",
       "      <th>Dust Allergy</th>\n",
       "      <th>OccuPational Hazards</th>\n",
       "      <th>Genetic Risk</th>\n",
       "      <th>chronic Lung Disease</th>\n",
       "      <th>...</th>\n",
       "      <th>Fatigue</th>\n",
       "      <th>Weight Loss</th>\n",
       "      <th>Shortness of Breath</th>\n",
       "      <th>Wheezing</th>\n",
       "      <th>Swallowing Difficulty</th>\n",
       "      <th>Clubbing of Finger Nails</th>\n",
       "      <th>Frequent Cold</th>\n",
       "      <th>Dry Cough</th>\n",
       "      <th>Snoring</th>\n",
       "      <th>Level</th>\n",
       "    </tr>\n",
       "  </thead>\n",
       "  <tbody>\n",
       "    <tr>\n",
       "      <th>995</th>\n",
       "      <td>995</td>\n",
       "      <td>P995</td>\n",
       "      <td>44</td>\n",
       "      <td>1</td>\n",
       "      <td>6</td>\n",
       "      <td>7</td>\n",
       "      <td>7</td>\n",
       "      <td>7</td>\n",
       "      <td>7</td>\n",
       "      <td>6</td>\n",
       "      <td>...</td>\n",
       "      <td>5</td>\n",
       "      <td>3</td>\n",
       "      <td>2</td>\n",
       "      <td>7</td>\n",
       "      <td>8</td>\n",
       "      <td>2</td>\n",
       "      <td>4</td>\n",
       "      <td>5</td>\n",
       "      <td>3</td>\n",
       "      <td>High</td>\n",
       "    </tr>\n",
       "    <tr>\n",
       "      <th>996</th>\n",
       "      <td>996</td>\n",
       "      <td>P996</td>\n",
       "      <td>37</td>\n",
       "      <td>2</td>\n",
       "      <td>6</td>\n",
       "      <td>8</td>\n",
       "      <td>7</td>\n",
       "      <td>7</td>\n",
       "      <td>7</td>\n",
       "      <td>6</td>\n",
       "      <td>...</td>\n",
       "      <td>9</td>\n",
       "      <td>6</td>\n",
       "      <td>5</td>\n",
       "      <td>7</td>\n",
       "      <td>2</td>\n",
       "      <td>4</td>\n",
       "      <td>3</td>\n",
       "      <td>1</td>\n",
       "      <td>4</td>\n",
       "      <td>High</td>\n",
       "    </tr>\n",
       "    <tr>\n",
       "      <th>997</th>\n",
       "      <td>997</td>\n",
       "      <td>P997</td>\n",
       "      <td>25</td>\n",
       "      <td>2</td>\n",
       "      <td>4</td>\n",
       "      <td>5</td>\n",
       "      <td>6</td>\n",
       "      <td>5</td>\n",
       "      <td>5</td>\n",
       "      <td>4</td>\n",
       "      <td>...</td>\n",
       "      <td>8</td>\n",
       "      <td>7</td>\n",
       "      <td>9</td>\n",
       "      <td>2</td>\n",
       "      <td>1</td>\n",
       "      <td>4</td>\n",
       "      <td>6</td>\n",
       "      <td>7</td>\n",
       "      <td>2</td>\n",
       "      <td>High</td>\n",
       "    </tr>\n",
       "    <tr>\n",
       "      <th>998</th>\n",
       "      <td>998</td>\n",
       "      <td>P998</td>\n",
       "      <td>18</td>\n",
       "      <td>2</td>\n",
       "      <td>6</td>\n",
       "      <td>8</td>\n",
       "      <td>7</td>\n",
       "      <td>7</td>\n",
       "      <td>7</td>\n",
       "      <td>6</td>\n",
       "      <td>...</td>\n",
       "      <td>3</td>\n",
       "      <td>2</td>\n",
       "      <td>4</td>\n",
       "      <td>1</td>\n",
       "      <td>4</td>\n",
       "      <td>2</td>\n",
       "      <td>4</td>\n",
       "      <td>2</td>\n",
       "      <td>3</td>\n",
       "      <td>High</td>\n",
       "    </tr>\n",
       "    <tr>\n",
       "      <th>999</th>\n",
       "      <td>999</td>\n",
       "      <td>P999</td>\n",
       "      <td>47</td>\n",
       "      <td>1</td>\n",
       "      <td>6</td>\n",
       "      <td>5</td>\n",
       "      <td>6</td>\n",
       "      <td>5</td>\n",
       "      <td>5</td>\n",
       "      <td>4</td>\n",
       "      <td>...</td>\n",
       "      <td>8</td>\n",
       "      <td>7</td>\n",
       "      <td>9</td>\n",
       "      <td>2</td>\n",
       "      <td>1</td>\n",
       "      <td>4</td>\n",
       "      <td>6</td>\n",
       "      <td>7</td>\n",
       "      <td>2</td>\n",
       "      <td>High</td>\n",
       "    </tr>\n",
       "  </tbody>\n",
       "</table>\n",
       "<p>5 rows × 26 columns</p>\n",
       "</div>"
      ],
      "text/plain": [
       "     index Patient Id  Age  Gender  Air Pollution  Alcohol use  Dust Allergy  \\\n",
       "995    995       P995   44       1              6            7             7   \n",
       "996    996       P996   37       2              6            8             7   \n",
       "997    997       P997   25       2              4            5             6   \n",
       "998    998       P998   18       2              6            8             7   \n",
       "999    999       P999   47       1              6            5             6   \n",
       "\n",
       "     OccuPational Hazards  Genetic Risk  chronic Lung Disease  ...  Fatigue  \\\n",
       "995                     7             7                     6  ...        5   \n",
       "996                     7             7                     6  ...        9   \n",
       "997                     5             5                     4  ...        8   \n",
       "998                     7             7                     6  ...        3   \n",
       "999                     5             5                     4  ...        8   \n",
       "\n",
       "     Weight Loss  Shortness of Breath  Wheezing  Swallowing Difficulty  \\\n",
       "995            3                    2         7                      8   \n",
       "996            6                    5         7                      2   \n",
       "997            7                    9         2                      1   \n",
       "998            2                    4         1                      4   \n",
       "999            7                    9         2                      1   \n",
       "\n",
       "     Clubbing of Finger Nails  Frequent Cold  Dry Cough  Snoring  Level  \n",
       "995                         2              4          5        3   High  \n",
       "996                         4              3          1        4   High  \n",
       "997                         4              6          7        2   High  \n",
       "998                         2              4          2        3   High  \n",
       "999                         4              6          7        2   High  \n",
       "\n",
       "[5 rows x 26 columns]"
      ]
     },
     "execution_count": 133,
     "metadata": {},
     "output_type": "execute_result"
    }
   ],
   "source": [
    "# Show me the last 5 observation\n",
    "df_Cancer_Patient.tail()"
   ]
  },
  {
   "cell_type": "markdown",
   "id": "9fa07d88-aad9-4a63-9da6-325da61b2cf5",
   "metadata": {},
   "source": [
    "### Check the shape of the data"
   ]
  },
  {
   "cell_type": "code",
   "execution_count": 136,
   "id": "2751b581-94fb-407d-9f26-bb61e087b76d",
   "metadata": {},
   "outputs": [
    {
     "data": {
      "text/plain": [
       "(1000, 26)"
      ]
     },
     "execution_count": 136,
     "metadata": {},
     "output_type": "execute_result"
    }
   ],
   "source": [
    "df_Cancer_Patient.shape"
   ]
  },
  {
   "cell_type": "markdown",
   "id": "c3330466-f45c-4dc3-866e-63681885ec90",
   "metadata": {},
   "source": [
    "### Interpretation\n",
    "\n",
    "- We have 1000 observations(rows) in the data\n",
    "- We have 26 attributes(columns)"
   ]
  },
  {
   "cell_type": "code",
   "execution_count": 139,
   "id": "de9aebf3-a49f-4613-908c-a0d87ebe8df4",
   "metadata": {},
   "outputs": [
    {
     "name": "stdout",
     "output_type": "stream",
     "text": [
      "<class 'pandas.core.frame.DataFrame'>\n",
      "RangeIndex: 1000 entries, 0 to 999\n",
      "Data columns (total 26 columns):\n",
      " #   Column                    Non-Null Count  Dtype \n",
      "---  ------                    --------------  ----- \n",
      " 0   index                     1000 non-null   int64 \n",
      " 1   Patient Id                1000 non-null   object\n",
      " 2   Age                       1000 non-null   int64 \n",
      " 3   Gender                    1000 non-null   int64 \n",
      " 4   Air Pollution             1000 non-null   int64 \n",
      " 5   Alcohol use               1000 non-null   int64 \n",
      " 6   Dust Allergy              1000 non-null   int64 \n",
      " 7   OccuPational Hazards      1000 non-null   int64 \n",
      " 8   Genetic Risk              1000 non-null   int64 \n",
      " 9   chronic Lung Disease      1000 non-null   int64 \n",
      " 10  Balanced Diet             1000 non-null   int64 \n",
      " 11  Obesity                   1000 non-null   int64 \n",
      " 12  Smoking                   1000 non-null   int64 \n",
      " 13  Passive Smoker            1000 non-null   int64 \n",
      " 14  Chest Pain                1000 non-null   int64 \n",
      " 15  Coughing of Blood         1000 non-null   int64 \n",
      " 16  Fatigue                   1000 non-null   int64 \n",
      " 17  Weight Loss               1000 non-null   int64 \n",
      " 18  Shortness of Breath       1000 non-null   int64 \n",
      " 19  Wheezing                  1000 non-null   int64 \n",
      " 20  Swallowing Difficulty     1000 non-null   int64 \n",
      " 21  Clubbing of Finger Nails  1000 non-null   int64 \n",
      " 22  Frequent Cold             1000 non-null   int64 \n",
      " 23  Dry Cough                 1000 non-null   int64 \n",
      " 24  Snoring                   1000 non-null   int64 \n",
      " 25  Level                     1000 non-null   object\n",
      "dtypes: int64(24), object(2)\n",
      "memory usage: 203.3+ KB\n"
     ]
    }
   ],
   "source": [
    "# Derive the basic information \n",
    "df_Cancer_Patient.info()"
   ]
  },
  {
   "cell_type": "markdown",
   "id": "262d320c-92b6-4af1-928b-dd32c872dfe3",
   "metadata": {},
   "source": [
    "### Interpretation\n",
    "- In the data, we have 24 numerical columns( int)\n",
    "- In the data, we have 2 categorical columns(object)\n",
    "- Memory usage is 203.3+ KB\n",
    "- In the data, we dont have null values"
   ]
  },
  {
   "cell_type": "code",
   "execution_count": 142,
   "id": "26bb0d2f-c315-47fc-81c9-270577deff9f",
   "metadata": {},
   "outputs": [
    {
     "data": {
      "text/html": [
       "<div>\n",
       "<style scoped>\n",
       "    .dataframe tbody tr th:only-of-type {\n",
       "        vertical-align: middle;\n",
       "    }\n",
       "\n",
       "    .dataframe tbody tr th {\n",
       "        vertical-align: top;\n",
       "    }\n",
       "\n",
       "    .dataframe thead th {\n",
       "        text-align: right;\n",
       "    }\n",
       "</style>\n",
       "<table border=\"1\" class=\"dataframe\">\n",
       "  <thead>\n",
       "    <tr style=\"text-align: right;\">\n",
       "      <th></th>\n",
       "      <th>count</th>\n",
       "      <th>mean</th>\n",
       "      <th>std</th>\n",
       "      <th>min</th>\n",
       "      <th>25%</th>\n",
       "      <th>50%</th>\n",
       "      <th>75%</th>\n",
       "      <th>max</th>\n",
       "    </tr>\n",
       "  </thead>\n",
       "  <tbody>\n",
       "    <tr>\n",
       "      <th>index</th>\n",
       "      <td>1000.0</td>\n",
       "      <td>499.500</td>\n",
       "      <td>288.819436</td>\n",
       "      <td>0.0</td>\n",
       "      <td>249.75</td>\n",
       "      <td>499.5</td>\n",
       "      <td>749.25</td>\n",
       "      <td>999.0</td>\n",
       "    </tr>\n",
       "    <tr>\n",
       "      <th>Age</th>\n",
       "      <td>1000.0</td>\n",
       "      <td>37.174</td>\n",
       "      <td>12.005493</td>\n",
       "      <td>14.0</td>\n",
       "      <td>27.75</td>\n",
       "      <td>36.0</td>\n",
       "      <td>45.00</td>\n",
       "      <td>73.0</td>\n",
       "    </tr>\n",
       "    <tr>\n",
       "      <th>Gender</th>\n",
       "      <td>1000.0</td>\n",
       "      <td>1.402</td>\n",
       "      <td>0.490547</td>\n",
       "      <td>1.0</td>\n",
       "      <td>1.00</td>\n",
       "      <td>1.0</td>\n",
       "      <td>2.00</td>\n",
       "      <td>2.0</td>\n",
       "    </tr>\n",
       "    <tr>\n",
       "      <th>Air Pollution</th>\n",
       "      <td>1000.0</td>\n",
       "      <td>3.840</td>\n",
       "      <td>2.030400</td>\n",
       "      <td>1.0</td>\n",
       "      <td>2.00</td>\n",
       "      <td>3.0</td>\n",
       "      <td>6.00</td>\n",
       "      <td>8.0</td>\n",
       "    </tr>\n",
       "    <tr>\n",
       "      <th>Alcohol use</th>\n",
       "      <td>1000.0</td>\n",
       "      <td>4.563</td>\n",
       "      <td>2.620477</td>\n",
       "      <td>1.0</td>\n",
       "      <td>2.00</td>\n",
       "      <td>5.0</td>\n",
       "      <td>7.00</td>\n",
       "      <td>8.0</td>\n",
       "    </tr>\n",
       "    <tr>\n",
       "      <th>Dust Allergy</th>\n",
       "      <td>1000.0</td>\n",
       "      <td>5.165</td>\n",
       "      <td>1.980833</td>\n",
       "      <td>1.0</td>\n",
       "      <td>4.00</td>\n",
       "      <td>6.0</td>\n",
       "      <td>7.00</td>\n",
       "      <td>8.0</td>\n",
       "    </tr>\n",
       "    <tr>\n",
       "      <th>OccuPational Hazards</th>\n",
       "      <td>1000.0</td>\n",
       "      <td>4.840</td>\n",
       "      <td>2.107805</td>\n",
       "      <td>1.0</td>\n",
       "      <td>3.00</td>\n",
       "      <td>5.0</td>\n",
       "      <td>7.00</td>\n",
       "      <td>8.0</td>\n",
       "    </tr>\n",
       "    <tr>\n",
       "      <th>Genetic Risk</th>\n",
       "      <td>1000.0</td>\n",
       "      <td>4.580</td>\n",
       "      <td>2.126999</td>\n",
       "      <td>1.0</td>\n",
       "      <td>2.00</td>\n",
       "      <td>5.0</td>\n",
       "      <td>7.00</td>\n",
       "      <td>7.0</td>\n",
       "    </tr>\n",
       "    <tr>\n",
       "      <th>chronic Lung Disease</th>\n",
       "      <td>1000.0</td>\n",
       "      <td>4.380</td>\n",
       "      <td>1.848518</td>\n",
       "      <td>1.0</td>\n",
       "      <td>3.00</td>\n",
       "      <td>4.0</td>\n",
       "      <td>6.00</td>\n",
       "      <td>7.0</td>\n",
       "    </tr>\n",
       "    <tr>\n",
       "      <th>Balanced Diet</th>\n",
       "      <td>1000.0</td>\n",
       "      <td>4.491</td>\n",
       "      <td>2.135528</td>\n",
       "      <td>1.0</td>\n",
       "      <td>2.00</td>\n",
       "      <td>4.0</td>\n",
       "      <td>7.00</td>\n",
       "      <td>7.0</td>\n",
       "    </tr>\n",
       "    <tr>\n",
       "      <th>Obesity</th>\n",
       "      <td>1000.0</td>\n",
       "      <td>4.465</td>\n",
       "      <td>2.124921</td>\n",
       "      <td>1.0</td>\n",
       "      <td>3.00</td>\n",
       "      <td>4.0</td>\n",
       "      <td>7.00</td>\n",
       "      <td>7.0</td>\n",
       "    </tr>\n",
       "    <tr>\n",
       "      <th>Smoking</th>\n",
       "      <td>1000.0</td>\n",
       "      <td>3.948</td>\n",
       "      <td>2.495902</td>\n",
       "      <td>1.0</td>\n",
       "      <td>2.00</td>\n",
       "      <td>3.0</td>\n",
       "      <td>7.00</td>\n",
       "      <td>8.0</td>\n",
       "    </tr>\n",
       "    <tr>\n",
       "      <th>Passive Smoker</th>\n",
       "      <td>1000.0</td>\n",
       "      <td>4.195</td>\n",
       "      <td>2.311778</td>\n",
       "      <td>1.0</td>\n",
       "      <td>2.00</td>\n",
       "      <td>4.0</td>\n",
       "      <td>7.00</td>\n",
       "      <td>8.0</td>\n",
       "    </tr>\n",
       "    <tr>\n",
       "      <th>Chest Pain</th>\n",
       "      <td>1000.0</td>\n",
       "      <td>4.438</td>\n",
       "      <td>2.280209</td>\n",
       "      <td>1.0</td>\n",
       "      <td>2.00</td>\n",
       "      <td>4.0</td>\n",
       "      <td>7.00</td>\n",
       "      <td>9.0</td>\n",
       "    </tr>\n",
       "    <tr>\n",
       "      <th>Coughing of Blood</th>\n",
       "      <td>1000.0</td>\n",
       "      <td>4.859</td>\n",
       "      <td>2.427965</td>\n",
       "      <td>1.0</td>\n",
       "      <td>3.00</td>\n",
       "      <td>4.0</td>\n",
       "      <td>7.00</td>\n",
       "      <td>9.0</td>\n",
       "    </tr>\n",
       "    <tr>\n",
       "      <th>Fatigue</th>\n",
       "      <td>1000.0</td>\n",
       "      <td>3.856</td>\n",
       "      <td>2.244616</td>\n",
       "      <td>1.0</td>\n",
       "      <td>2.00</td>\n",
       "      <td>3.0</td>\n",
       "      <td>5.00</td>\n",
       "      <td>9.0</td>\n",
       "    </tr>\n",
       "    <tr>\n",
       "      <th>Weight Loss</th>\n",
       "      <td>1000.0</td>\n",
       "      <td>3.855</td>\n",
       "      <td>2.206546</td>\n",
       "      <td>1.0</td>\n",
       "      <td>2.00</td>\n",
       "      <td>3.0</td>\n",
       "      <td>6.00</td>\n",
       "      <td>8.0</td>\n",
       "    </tr>\n",
       "    <tr>\n",
       "      <th>Shortness of Breath</th>\n",
       "      <td>1000.0</td>\n",
       "      <td>4.240</td>\n",
       "      <td>2.285087</td>\n",
       "      <td>1.0</td>\n",
       "      <td>2.00</td>\n",
       "      <td>4.0</td>\n",
       "      <td>6.00</td>\n",
       "      <td>9.0</td>\n",
       "    </tr>\n",
       "    <tr>\n",
       "      <th>Wheezing</th>\n",
       "      <td>1000.0</td>\n",
       "      <td>3.777</td>\n",
       "      <td>2.041921</td>\n",
       "      <td>1.0</td>\n",
       "      <td>2.00</td>\n",
       "      <td>4.0</td>\n",
       "      <td>5.00</td>\n",
       "      <td>8.0</td>\n",
       "    </tr>\n",
       "    <tr>\n",
       "      <th>Swallowing Difficulty</th>\n",
       "      <td>1000.0</td>\n",
       "      <td>3.746</td>\n",
       "      <td>2.270383</td>\n",
       "      <td>1.0</td>\n",
       "      <td>2.00</td>\n",
       "      <td>4.0</td>\n",
       "      <td>5.00</td>\n",
       "      <td>8.0</td>\n",
       "    </tr>\n",
       "    <tr>\n",
       "      <th>Clubbing of Finger Nails</th>\n",
       "      <td>1000.0</td>\n",
       "      <td>3.923</td>\n",
       "      <td>2.388048</td>\n",
       "      <td>1.0</td>\n",
       "      <td>2.00</td>\n",
       "      <td>4.0</td>\n",
       "      <td>5.00</td>\n",
       "      <td>9.0</td>\n",
       "    </tr>\n",
       "    <tr>\n",
       "      <th>Frequent Cold</th>\n",
       "      <td>1000.0</td>\n",
       "      <td>3.536</td>\n",
       "      <td>1.832502</td>\n",
       "      <td>1.0</td>\n",
       "      <td>2.00</td>\n",
       "      <td>3.0</td>\n",
       "      <td>5.00</td>\n",
       "      <td>7.0</td>\n",
       "    </tr>\n",
       "    <tr>\n",
       "      <th>Dry Cough</th>\n",
       "      <td>1000.0</td>\n",
       "      <td>3.853</td>\n",
       "      <td>2.039007</td>\n",
       "      <td>1.0</td>\n",
       "      <td>2.00</td>\n",
       "      <td>4.0</td>\n",
       "      <td>6.00</td>\n",
       "      <td>7.0</td>\n",
       "    </tr>\n",
       "    <tr>\n",
       "      <th>Snoring</th>\n",
       "      <td>1000.0</td>\n",
       "      <td>2.926</td>\n",
       "      <td>1.474686</td>\n",
       "      <td>1.0</td>\n",
       "      <td>2.00</td>\n",
       "      <td>3.0</td>\n",
       "      <td>4.00</td>\n",
       "      <td>7.0</td>\n",
       "    </tr>\n",
       "  </tbody>\n",
       "</table>\n",
       "</div>"
      ],
      "text/plain": [
       "                           count     mean         std   min     25%    50%  \\\n",
       "index                     1000.0  499.500  288.819436   0.0  249.75  499.5   \n",
       "Age                       1000.0   37.174   12.005493  14.0   27.75   36.0   \n",
       "Gender                    1000.0    1.402    0.490547   1.0    1.00    1.0   \n",
       "Air Pollution             1000.0    3.840    2.030400   1.0    2.00    3.0   \n",
       "Alcohol use               1000.0    4.563    2.620477   1.0    2.00    5.0   \n",
       "Dust Allergy              1000.0    5.165    1.980833   1.0    4.00    6.0   \n",
       "OccuPational Hazards      1000.0    4.840    2.107805   1.0    3.00    5.0   \n",
       "Genetic Risk              1000.0    4.580    2.126999   1.0    2.00    5.0   \n",
       "chronic Lung Disease      1000.0    4.380    1.848518   1.0    3.00    4.0   \n",
       "Balanced Diet             1000.0    4.491    2.135528   1.0    2.00    4.0   \n",
       "Obesity                   1000.0    4.465    2.124921   1.0    3.00    4.0   \n",
       "Smoking                   1000.0    3.948    2.495902   1.0    2.00    3.0   \n",
       "Passive Smoker            1000.0    4.195    2.311778   1.0    2.00    4.0   \n",
       "Chest Pain                1000.0    4.438    2.280209   1.0    2.00    4.0   \n",
       "Coughing of Blood         1000.0    4.859    2.427965   1.0    3.00    4.0   \n",
       "Fatigue                   1000.0    3.856    2.244616   1.0    2.00    3.0   \n",
       "Weight Loss               1000.0    3.855    2.206546   1.0    2.00    3.0   \n",
       "Shortness of Breath       1000.0    4.240    2.285087   1.0    2.00    4.0   \n",
       "Wheezing                  1000.0    3.777    2.041921   1.0    2.00    4.0   \n",
       "Swallowing Difficulty     1000.0    3.746    2.270383   1.0    2.00    4.0   \n",
       "Clubbing of Finger Nails  1000.0    3.923    2.388048   1.0    2.00    4.0   \n",
       "Frequent Cold             1000.0    3.536    1.832502   1.0    2.00    3.0   \n",
       "Dry Cough                 1000.0    3.853    2.039007   1.0    2.00    4.0   \n",
       "Snoring                   1000.0    2.926    1.474686   1.0    2.00    3.0   \n",
       "\n",
       "                             75%    max  \n",
       "index                     749.25  999.0  \n",
       "Age                        45.00   73.0  \n",
       "Gender                      2.00    2.0  \n",
       "Air Pollution               6.00    8.0  \n",
       "Alcohol use                 7.00    8.0  \n",
       "Dust Allergy                7.00    8.0  \n",
       "OccuPational Hazards        7.00    8.0  \n",
       "Genetic Risk                7.00    7.0  \n",
       "chronic Lung Disease        6.00    7.0  \n",
       "Balanced Diet               7.00    7.0  \n",
       "Obesity                     7.00    7.0  \n",
       "Smoking                     7.00    8.0  \n",
       "Passive Smoker              7.00    8.0  \n",
       "Chest Pain                  7.00    9.0  \n",
       "Coughing of Blood           7.00    9.0  \n",
       "Fatigue                     5.00    9.0  \n",
       "Weight Loss                 6.00    8.0  \n",
       "Shortness of Breath         6.00    9.0  \n",
       "Wheezing                    5.00    8.0  \n",
       "Swallowing Difficulty       5.00    8.0  \n",
       "Clubbing of Finger Nails    5.00    9.0  \n",
       "Frequent Cold               5.00    7.0  \n",
       "Dry Cough                   6.00    7.0  \n",
       "Snoring                     4.00    7.0  "
      ]
     },
     "execution_count": 142,
     "metadata": {},
     "output_type": "execute_result"
    }
   ],
   "source": [
    "# Describe the dataset\n",
    "df_Cancer_Patient.describe().T"
   ]
  },
  {
   "cell_type": "markdown",
   "id": "455a1b47-b6dd-4bef-b115-902ea5716e8f",
   "metadata": {
    "jp-MarkdownHeadingCollapsed": true
   },
   "source": [
    "### Interpretation\n",
    "- Average index is 499.500,Minimum index is 0.0\t,Maximum index is 999.0\n",
    "- Average age is 37.174, Minimum age is 14.0 , Maximum age is 73.0\n",
    "- Average Gender is 1.402 , Minimum Gender is 1.0, Maximum Gender is 2.0\n",
    "- Average Air Pollution\tis 3.840 , Minimum Air Pollution is 1.0 , Maximum Air Pollution is 8.0\n",
    "- Average Alcohol use is 4.563, Minimum Alcohol use is 1.0, Maximum Alcohol use is 8.0\n",
    "- Average Dust Allergy is 5.165 ,Minimum Dust Allergy 1.0 ,Maximum Dust Allergy\tis 8.0\n",
    "- Average OccuPational Hazards is 4.840, Minimum OccuPational Hazardsis 1.0, Maximum OccuPational Hazards is 8.0\n",
    "- Average Genetic Risk\t is 4.580,Minimum Genetic Risk\t is 1.0\t,Maximum Genetic Risk\t is 7.0\n",
    "- Average chronic Lung Disease is 4.380, Minimum chronic Lung Disease is 1.0,Maximum chronic Lung Disease is 7.0\n",
    "- Average Balanced Diet is 4.491, Minimum Balanced Diet is 1.0,Maximum Balanced Diet is 7.0\n",
    "- Average Obesity is 4.465, Minimum Obesity is 1.0,Maximum Obesityis 7.0\n",
    "- Average Smoking is 3.948, Minimum Smoking is 1.0,Maximum Smoking is 8.0\n",
    "- Average Passive Smoker is 4.195, Minimum Passive Smoker is 1.0,Maximum Passive Smoker is 8.0\n",
    "- Average Chest Pain is 4.438, Minimum Chest Pain is 1.0,Maximum Chest Pain is 9.0\n",
    "- Average Coughing of Blood is 4.859, Minimum Coughing of Blood is 1.0,Maximum Coughing of Blood is 9.0\n",
    "- Average Fatigue is 3.856, Minimum Fatigue is 1.0,Maximum Fatigue is 9.0\n",
    "- Average Weight Loss is 3.855, Minimum Weight Loss is 1.0,Maximum Weight Loss is 8.0\n",
    "- Average Shortness of Breath is 4.240, Minimum Shortness of Breath is 1.0,Maximum Shortness of Breath is 9.0\n",
    "- Average Wheezing is 3.777, Minimum Wheezing is 1.0,Maximum Wheezing is 8.0\n",
    "- Average Swallowing Difficulty is 3.746, Minimum Swallowing Difficulty is 1.0,Maximum Swallowing Difficulty is 8.0\n",
    "- Average Clubbing of Finger Nails is 3.923, Minimum Clubbing of Finger Nails is 1.0,Maximum Clubbing of Finger Nails is 9.0\n",
    "- Average Frequent Cold is 3.536, Minimum Frequent Cold is 1.0,Maximum Frequent Cold is 7.0\n",
    "- Average Dry Cough\t is 3.853, Minimum Dry Cough is 1.0,Maximum Dry Cough is 7.0\n",
    "- Average Snoring is 2.926, Minimum Snoring is 1.0,Maximum Snoring is 7.0"
   ]
  },
  {
   "cell_type": "markdown",
   "id": "a462da38-0de2-4897-9b81-ba71e9b1a703",
   "metadata": {},
   "source": [
    "### Data Preprocessing"
   ]
  },
  {
   "cell_type": "markdown",
   "id": "be7f9bbc-b2fa-46ff-bf81-50617bd7c1f2",
   "metadata": {},
   "source": [
    "### Data Cleaning "
   ]
  },
  {
   "cell_type": "code",
   "execution_count": 147,
   "id": "4e4047b2-23bf-4da9-961d-324711df4778",
   "metadata": {},
   "outputs": [
    {
     "data": {
      "text/html": [
       "<div>\n",
       "<style scoped>\n",
       "    .dataframe tbody tr th:only-of-type {\n",
       "        vertical-align: middle;\n",
       "    }\n",
       "\n",
       "    .dataframe tbody tr th {\n",
       "        vertical-align: top;\n",
       "    }\n",
       "\n",
       "    .dataframe thead th {\n",
       "        text-align: right;\n",
       "    }\n",
       "</style>\n",
       "<table border=\"1\" class=\"dataframe\">\n",
       "  <thead>\n",
       "    <tr style=\"text-align: right;\">\n",
       "      <th></th>\n",
       "      <th>index</th>\n",
       "      <th>Patient Id</th>\n",
       "      <th>Age</th>\n",
       "      <th>Gender</th>\n",
       "      <th>Air Pollution</th>\n",
       "      <th>Alcohol use</th>\n",
       "      <th>Dust Allergy</th>\n",
       "      <th>OccuPational Hazards</th>\n",
       "      <th>Genetic Risk</th>\n",
       "      <th>chronic Lung Disease</th>\n",
       "      <th>...</th>\n",
       "      <th>Fatigue</th>\n",
       "      <th>Weight Loss</th>\n",
       "      <th>Shortness of Breath</th>\n",
       "      <th>Wheezing</th>\n",
       "      <th>Swallowing Difficulty</th>\n",
       "      <th>Clubbing of Finger Nails</th>\n",
       "      <th>Frequent Cold</th>\n",
       "      <th>Dry Cough</th>\n",
       "      <th>Snoring</th>\n",
       "      <th>Level</th>\n",
       "    </tr>\n",
       "  </thead>\n",
       "  <tbody>\n",
       "    <tr>\n",
       "      <th>0</th>\n",
       "      <td>0</td>\n",
       "      <td>P1</td>\n",
       "      <td>33</td>\n",
       "      <td>1</td>\n",
       "      <td>2</td>\n",
       "      <td>4</td>\n",
       "      <td>5</td>\n",
       "      <td>4</td>\n",
       "      <td>3</td>\n",
       "      <td>2</td>\n",
       "      <td>...</td>\n",
       "      <td>3</td>\n",
       "      <td>4</td>\n",
       "      <td>2</td>\n",
       "      <td>2</td>\n",
       "      <td>3</td>\n",
       "      <td>1</td>\n",
       "      <td>2</td>\n",
       "      <td>3</td>\n",
       "      <td>4</td>\n",
       "      <td>Low</td>\n",
       "    </tr>\n",
       "    <tr>\n",
       "      <th>1</th>\n",
       "      <td>1</td>\n",
       "      <td>P10</td>\n",
       "      <td>17</td>\n",
       "      <td>1</td>\n",
       "      <td>3</td>\n",
       "      <td>1</td>\n",
       "      <td>5</td>\n",
       "      <td>3</td>\n",
       "      <td>4</td>\n",
       "      <td>2</td>\n",
       "      <td>...</td>\n",
       "      <td>1</td>\n",
       "      <td>3</td>\n",
       "      <td>7</td>\n",
       "      <td>8</td>\n",
       "      <td>6</td>\n",
       "      <td>2</td>\n",
       "      <td>1</td>\n",
       "      <td>7</td>\n",
       "      <td>2</td>\n",
       "      <td>Medium</td>\n",
       "    </tr>\n",
       "    <tr>\n",
       "      <th>2</th>\n",
       "      <td>2</td>\n",
       "      <td>P100</td>\n",
       "      <td>35</td>\n",
       "      <td>1</td>\n",
       "      <td>4</td>\n",
       "      <td>5</td>\n",
       "      <td>6</td>\n",
       "      <td>5</td>\n",
       "      <td>5</td>\n",
       "      <td>4</td>\n",
       "      <td>...</td>\n",
       "      <td>8</td>\n",
       "      <td>7</td>\n",
       "      <td>9</td>\n",
       "      <td>2</td>\n",
       "      <td>1</td>\n",
       "      <td>4</td>\n",
       "      <td>6</td>\n",
       "      <td>7</td>\n",
       "      <td>2</td>\n",
       "      <td>High</td>\n",
       "    </tr>\n",
       "    <tr>\n",
       "      <th>3</th>\n",
       "      <td>3</td>\n",
       "      <td>P1000</td>\n",
       "      <td>37</td>\n",
       "      <td>1</td>\n",
       "      <td>7</td>\n",
       "      <td>7</td>\n",
       "      <td>7</td>\n",
       "      <td>7</td>\n",
       "      <td>6</td>\n",
       "      <td>7</td>\n",
       "      <td>...</td>\n",
       "      <td>4</td>\n",
       "      <td>2</td>\n",
       "      <td>3</td>\n",
       "      <td>1</td>\n",
       "      <td>4</td>\n",
       "      <td>5</td>\n",
       "      <td>6</td>\n",
       "      <td>7</td>\n",
       "      <td>5</td>\n",
       "      <td>High</td>\n",
       "    </tr>\n",
       "    <tr>\n",
       "      <th>4</th>\n",
       "      <td>4</td>\n",
       "      <td>P101</td>\n",
       "      <td>46</td>\n",
       "      <td>1</td>\n",
       "      <td>6</td>\n",
       "      <td>8</td>\n",
       "      <td>7</td>\n",
       "      <td>7</td>\n",
       "      <td>7</td>\n",
       "      <td>6</td>\n",
       "      <td>...</td>\n",
       "      <td>3</td>\n",
       "      <td>2</td>\n",
       "      <td>4</td>\n",
       "      <td>1</td>\n",
       "      <td>4</td>\n",
       "      <td>2</td>\n",
       "      <td>4</td>\n",
       "      <td>2</td>\n",
       "      <td>3</td>\n",
       "      <td>High</td>\n",
       "    </tr>\n",
       "  </tbody>\n",
       "</table>\n",
       "<p>5 rows × 26 columns</p>\n",
       "</div>"
      ],
      "text/plain": [
       "   index Patient Id  Age  Gender  Air Pollution  Alcohol use  Dust Allergy  \\\n",
       "0      0         P1   33       1              2            4             5   \n",
       "1      1        P10   17       1              3            1             5   \n",
       "2      2       P100   35       1              4            5             6   \n",
       "3      3      P1000   37       1              7            7             7   \n",
       "4      4       P101   46       1              6            8             7   \n",
       "\n",
       "   OccuPational Hazards  Genetic Risk  chronic Lung Disease  ...  Fatigue  \\\n",
       "0                     4             3                     2  ...        3   \n",
       "1                     3             4                     2  ...        1   \n",
       "2                     5             5                     4  ...        8   \n",
       "3                     7             6                     7  ...        4   \n",
       "4                     7             7                     6  ...        3   \n",
       "\n",
       "   Weight Loss  Shortness of Breath  Wheezing  Swallowing Difficulty  \\\n",
       "0            4                    2         2                      3   \n",
       "1            3                    7         8                      6   \n",
       "2            7                    9         2                      1   \n",
       "3            2                    3         1                      4   \n",
       "4            2                    4         1                      4   \n",
       "\n",
       "   Clubbing of Finger Nails  Frequent Cold  Dry Cough  Snoring   Level  \n",
       "0                         1              2          3        4     Low  \n",
       "1                         2              1          7        2  Medium  \n",
       "2                         4              6          7        2    High  \n",
       "3                         5              6          7        5    High  \n",
       "4                         2              4          2        3    High  \n",
       "\n",
       "[5 rows x 26 columns]"
      ]
     },
     "execution_count": 147,
     "metadata": {},
     "output_type": "execute_result"
    }
   ],
   "source": [
    "# Show the first 5 observation of the dat \n",
    "df_Cancer_Patient.head()"
   ]
  },
  {
   "cell_type": "code",
   "execution_count": 149,
   "id": "5a93dc6a-2a4f-4291-a100-9e18e067ca20",
   "metadata": {},
   "outputs": [
    {
     "data": {
      "text/plain": [
       "Index(['index', 'Patient Id', 'Age', 'Gender', 'Air Pollution', 'Alcohol use',\n",
       "       'Dust Allergy', 'OccuPational Hazards', 'Genetic Risk',\n",
       "       'chronic Lung Disease', 'Balanced Diet', 'Obesity', 'Smoking',\n",
       "       'Passive Smoker', 'Chest Pain', 'Coughing of Blood', 'Fatigue',\n",
       "       'Weight Loss', 'Shortness of Breath', 'Wheezing',\n",
       "       'Swallowing Difficulty', 'Clubbing of Finger Nails', 'Frequent Cold',\n",
       "       'Dry Cough', 'Snoring', 'Level'],\n",
       "      dtype='object')"
      ]
     },
     "execution_count": 149,
     "metadata": {},
     "output_type": "execute_result"
    }
   ],
   "source": [
    "# To make the data representable we need to rename the columns\n",
    "df_Cancer_Patient.columns"
   ]
  },
  {
   "cell_type": "code",
   "execution_count": 151,
   "id": "63f35c7a-e8f5-460c-88ff-544e1f67e52c",
   "metadata": {},
   "outputs": [],
   "source": [
    "# Dfine the new column names\n",
    "d1 = { 'index' : 'Index',\n",
    "      'Patient Id' : 'Patient Id',\n",
    "      'Age' : 'Age', \n",
    "      'Gender' :'Gender', \n",
    "      'Air Pollution' : 'Air Pollution', \n",
    "      'Alcohol use' : 'Alcohol use',\n",
    "       'Dust Allergy' : 'Dust Allergy',\n",
    "      'OccuPational Hazards' : 'OccuPational Hazards',\n",
    "      'Genetic Risk' : 'Genetic Risk',\n",
    "       'chronic Lung Disease' : 'chronic Lung Disease',\n",
    "      'Balanced Diet' : 'Balanced Diet',\n",
    "       'Obesity' : 'Obesity',\n",
    "      'Smoking' : 'Smoking',\n",
    "       'Passive Smoker' : 'Passive Smoker',\n",
    "      'Chest Pain' : 'Chest Pain',\n",
    "      'Coughing of Blood' : 'Coughing of Blood', \n",
    "      'Fatigue' : 'Fatigue',\n",
    "       'Weight Loss': 'Weight Loss', \n",
    "      'Shortness of Breath' : 'Shortness of Breath',\n",
    "      'Wheezing': 'Wheezing',\n",
    "       'Swallowing Difficulty' : 'Swallowing Difficulty', \n",
    "      'Clubbing of Finger Nails': 'Clubbing of Finger Nails',\n",
    "      'Frequent Cold' : 'Frequent Cold',\n",
    "       'Dry Cough' : 'Dry Cough', \n",
    "      'Snoring' : 'Snoring',\n",
    "      'Level' :  'Level'}"
   ]
  },
  {
   "cell_type": "code",
   "execution_count": 153,
   "id": "2886dc8a-51e6-4b52-9541-ce8852f055e6",
   "metadata": {},
   "outputs": [],
   "source": [
    "# Perform the renaming operation\n",
    "df_Cancer_Patient = df_Cancer_Patient.rename(columns=d1)"
   ]
  },
  {
   "cell_type": "code",
   "execution_count": 155,
   "id": "d40c8e7d-9d3b-47f1-8a9b-bdfdcf9f1bbf",
   "metadata": {},
   "outputs": [
    {
     "data": {
      "text/plain": [
       "Index(['Index', 'Patient Id', 'Age', 'Gender', 'Air Pollution', 'Alcohol use',\n",
       "       'Dust Allergy', 'OccuPational Hazards', 'Genetic Risk',\n",
       "       'chronic Lung Disease', 'Balanced Diet', 'Obesity', 'Smoking',\n",
       "       'Passive Smoker', 'Chest Pain', 'Coughing of Blood', 'Fatigue',\n",
       "       'Weight Loss', 'Shortness of Breath', 'Wheezing',\n",
       "       'Swallowing Difficulty', 'Clubbing of Finger Nails', 'Frequent Cold',\n",
       "       'Dry Cough', 'Snoring', 'Level'],\n",
       "      dtype='object')"
      ]
     },
     "execution_count": 155,
     "metadata": {},
     "output_type": "execute_result"
    }
   ],
   "source": [
    "# Do the authentic check\n",
    "df_Cancer_Patient.columns"
   ]
  },
  {
   "cell_type": "markdown",
   "id": "f59dbc4c-6db2-4411-81a3-fc8902f2ed46",
   "metadata": {},
   "source": [
    "#### Null Value Handling"
   ]
  },
  {
   "cell_type": "code",
   "execution_count": 158,
   "id": "ee5e70f0-9cab-4af9-84ae-8259018691ed",
   "metadata": {},
   "outputs": [
    {
     "data": {
      "text/plain": [
       "Index                       0\n",
       "Patient Id                  0\n",
       "Age                         0\n",
       "Gender                      0\n",
       "Air Pollution               0\n",
       "Alcohol use                 0\n",
       "Dust Allergy                0\n",
       "OccuPational Hazards        0\n",
       "Genetic Risk                0\n",
       "chronic Lung Disease        0\n",
       "Balanced Diet               0\n",
       "Obesity                     0\n",
       "Smoking                     0\n",
       "Passive Smoker              0\n",
       "Chest Pain                  0\n",
       "Coughing of Blood           0\n",
       "Fatigue                     0\n",
       "Weight Loss                 0\n",
       "Shortness of Breath         0\n",
       "Wheezing                    0\n",
       "Swallowing Difficulty       0\n",
       "Clubbing of Finger Nails    0\n",
       "Frequent Cold               0\n",
       "Dry Cough                   0\n",
       "Snoring                     0\n",
       "Level                       0\n",
       "dtype: int64"
      ]
     },
     "execution_count": 158,
     "metadata": {},
     "output_type": "execute_result"
    }
   ],
   "source": [
    "# Find the number of missing records in each column\n",
    "df_Cancer_Patient.isnull().sum()"
   ]
  },
  {
   "cell_type": "raw",
   "id": "21267a92-fe57-48f9-987b-1a678a3f0b6d",
   "metadata": {},
   "source": [
    "percentage:  (Number of occurences/ Total number of events) * 100"
   ]
  },
  {
   "cell_type": "code",
   "execution_count": 160,
   "id": "35c98a77-00b4-43a1-92b9-480b2081d840",
   "metadata": {},
   "outputs": [
    {
     "data": {
      "text/plain": [
       "Index                       0.0\n",
       "Patient Id                  0.0\n",
       "Age                         0.0\n",
       "Gender                      0.0\n",
       "Air Pollution               0.0\n",
       "Alcohol use                 0.0\n",
       "Dust Allergy                0.0\n",
       "OccuPational Hazards        0.0\n",
       "Genetic Risk                0.0\n",
       "chronic Lung Disease        0.0\n",
       "Balanced Diet               0.0\n",
       "Obesity                     0.0\n",
       "Smoking                     0.0\n",
       "Passive Smoker              0.0\n",
       "Chest Pain                  0.0\n",
       "Coughing of Blood           0.0\n",
       "Fatigue                     0.0\n",
       "Weight Loss                 0.0\n",
       "Shortness of Breath         0.0\n",
       "Wheezing                    0.0\n",
       "Swallowing Difficulty       0.0\n",
       "Clubbing of Finger Nails    0.0\n",
       "Frequent Cold               0.0\n",
       "Dry Cough                   0.0\n",
       "Snoring                     0.0\n",
       "Level                       0.0\n",
       "dtype: float64"
      ]
     },
     "execution_count": 160,
     "metadata": {},
     "output_type": "execute_result"
    }
   ],
   "source": [
    "# Find the percentage of missing records\n",
    "df_Cancer_Patient.isnull().sum()/ len(df_Cancer_Patient) * 100"
   ]
  },
  {
   "cell_type": "markdown",
   "id": "5061d2f9-4fc1-4e2c-af0e-be4b604c617c",
   "metadata": {},
   "source": [
    "# Handling Duplicate values."
   ]
  },
  {
   "cell_type": "code",
   "execution_count": 163,
   "id": "f0dbb432-08c0-47bf-889e-dbbbea5a23ad",
   "metadata": {},
   "outputs": [
    {
     "data": {
      "text/plain": [
       "Index                         0\n",
       "Patient Id                    0\n",
       "Age                         960\n",
       "Gender                      998\n",
       "Air Pollution               992\n",
       "Alcohol use                 992\n",
       "Dust Allergy                992\n",
       "OccuPational Hazards        992\n",
       "Genetic Risk                993\n",
       "chronic Lung Disease        993\n",
       "Balanced Diet               993\n",
       "Obesity                     993\n",
       "Smoking                     992\n",
       "Passive Smoker              992\n",
       "Chest Pain                  991\n",
       "Coughing of Blood           991\n",
       "Fatigue                     992\n",
       "Weight Loss                 992\n",
       "Shortness of Breath         992\n",
       "Wheezing                    992\n",
       "Swallowing Difficulty       992\n",
       "Clubbing of Finger Nails    991\n",
       "Frequent Cold               993\n",
       "Dry Cough                   993\n",
       "Snoring                     993\n",
       "Level                       997\n",
       "dtype: int64"
      ]
     },
     "execution_count": 163,
     "metadata": {},
     "output_type": "execute_result"
    }
   ],
   "source": [
    "duplicate_counts = df_Cancer_Patient.apply(lambda col: col.duplicated().sum())\n",
    "duplicate_counts"
   ]
  },
  {
   "cell_type": "code",
   "execution_count": 165,
   "id": "23c90c96-3580-4cc0-894d-13af7ade0bd9",
   "metadata": {},
   "outputs": [],
   "source": [
    "# Dropping 'Country' column\n",
    "\n",
    "df_Cancer_Patient.drop('Patient Id', axis = 1, inplace = True)"
   ]
  },
  {
   "cell_type": "code",
   "execution_count": 167,
   "id": "6800f220-00af-4cbc-bf4c-8c320660369c",
   "metadata": {},
   "outputs": [
    {
     "data": {
      "text/html": [
       "<div>\n",
       "<style scoped>\n",
       "    .dataframe tbody tr th:only-of-type {\n",
       "        vertical-align: middle;\n",
       "    }\n",
       "\n",
       "    .dataframe tbody tr th {\n",
       "        vertical-align: top;\n",
       "    }\n",
       "\n",
       "    .dataframe thead th {\n",
       "        text-align: right;\n",
       "    }\n",
       "</style>\n",
       "<table border=\"1\" class=\"dataframe\">\n",
       "  <thead>\n",
       "    <tr style=\"text-align: right;\">\n",
       "      <th></th>\n",
       "      <th>Index</th>\n",
       "      <th>Age</th>\n",
       "      <th>Gender</th>\n",
       "      <th>Air Pollution</th>\n",
       "      <th>Alcohol use</th>\n",
       "      <th>Dust Allergy</th>\n",
       "      <th>OccuPational Hazards</th>\n",
       "      <th>Genetic Risk</th>\n",
       "      <th>chronic Lung Disease</th>\n",
       "      <th>Balanced Diet</th>\n",
       "      <th>...</th>\n",
       "      <th>Fatigue</th>\n",
       "      <th>Weight Loss</th>\n",
       "      <th>Shortness of Breath</th>\n",
       "      <th>Wheezing</th>\n",
       "      <th>Swallowing Difficulty</th>\n",
       "      <th>Clubbing of Finger Nails</th>\n",
       "      <th>Frequent Cold</th>\n",
       "      <th>Dry Cough</th>\n",
       "      <th>Snoring</th>\n",
       "      <th>Level</th>\n",
       "    </tr>\n",
       "  </thead>\n",
       "  <tbody>\n",
       "    <tr>\n",
       "      <th>0</th>\n",
       "      <td>0</td>\n",
       "      <td>33</td>\n",
       "      <td>1</td>\n",
       "      <td>2</td>\n",
       "      <td>4</td>\n",
       "      <td>5</td>\n",
       "      <td>4</td>\n",
       "      <td>3</td>\n",
       "      <td>2</td>\n",
       "      <td>2</td>\n",
       "      <td>...</td>\n",
       "      <td>3</td>\n",
       "      <td>4</td>\n",
       "      <td>2</td>\n",
       "      <td>2</td>\n",
       "      <td>3</td>\n",
       "      <td>1</td>\n",
       "      <td>2</td>\n",
       "      <td>3</td>\n",
       "      <td>4</td>\n",
       "      <td>Low</td>\n",
       "    </tr>\n",
       "    <tr>\n",
       "      <th>1</th>\n",
       "      <td>1</td>\n",
       "      <td>17</td>\n",
       "      <td>1</td>\n",
       "      <td>3</td>\n",
       "      <td>1</td>\n",
       "      <td>5</td>\n",
       "      <td>3</td>\n",
       "      <td>4</td>\n",
       "      <td>2</td>\n",
       "      <td>2</td>\n",
       "      <td>...</td>\n",
       "      <td>1</td>\n",
       "      <td>3</td>\n",
       "      <td>7</td>\n",
       "      <td>8</td>\n",
       "      <td>6</td>\n",
       "      <td>2</td>\n",
       "      <td>1</td>\n",
       "      <td>7</td>\n",
       "      <td>2</td>\n",
       "      <td>Medium</td>\n",
       "    </tr>\n",
       "    <tr>\n",
       "      <th>2</th>\n",
       "      <td>2</td>\n",
       "      <td>35</td>\n",
       "      <td>1</td>\n",
       "      <td>4</td>\n",
       "      <td>5</td>\n",
       "      <td>6</td>\n",
       "      <td>5</td>\n",
       "      <td>5</td>\n",
       "      <td>4</td>\n",
       "      <td>6</td>\n",
       "      <td>...</td>\n",
       "      <td>8</td>\n",
       "      <td>7</td>\n",
       "      <td>9</td>\n",
       "      <td>2</td>\n",
       "      <td>1</td>\n",
       "      <td>4</td>\n",
       "      <td>6</td>\n",
       "      <td>7</td>\n",
       "      <td>2</td>\n",
       "      <td>High</td>\n",
       "    </tr>\n",
       "    <tr>\n",
       "      <th>3</th>\n",
       "      <td>3</td>\n",
       "      <td>37</td>\n",
       "      <td>1</td>\n",
       "      <td>7</td>\n",
       "      <td>7</td>\n",
       "      <td>7</td>\n",
       "      <td>7</td>\n",
       "      <td>6</td>\n",
       "      <td>7</td>\n",
       "      <td>7</td>\n",
       "      <td>...</td>\n",
       "      <td>4</td>\n",
       "      <td>2</td>\n",
       "      <td>3</td>\n",
       "      <td>1</td>\n",
       "      <td>4</td>\n",
       "      <td>5</td>\n",
       "      <td>6</td>\n",
       "      <td>7</td>\n",
       "      <td>5</td>\n",
       "      <td>High</td>\n",
       "    </tr>\n",
       "    <tr>\n",
       "      <th>4</th>\n",
       "      <td>4</td>\n",
       "      <td>46</td>\n",
       "      <td>1</td>\n",
       "      <td>6</td>\n",
       "      <td>8</td>\n",
       "      <td>7</td>\n",
       "      <td>7</td>\n",
       "      <td>7</td>\n",
       "      <td>6</td>\n",
       "      <td>7</td>\n",
       "      <td>...</td>\n",
       "      <td>3</td>\n",
       "      <td>2</td>\n",
       "      <td>4</td>\n",
       "      <td>1</td>\n",
       "      <td>4</td>\n",
       "      <td>2</td>\n",
       "      <td>4</td>\n",
       "      <td>2</td>\n",
       "      <td>3</td>\n",
       "      <td>High</td>\n",
       "    </tr>\n",
       "  </tbody>\n",
       "</table>\n",
       "<p>5 rows × 25 columns</p>\n",
       "</div>"
      ],
      "text/plain": [
       "   Index  Age  Gender  Air Pollution  Alcohol use  Dust Allergy  \\\n",
       "0      0   33       1              2            4             5   \n",
       "1      1   17       1              3            1             5   \n",
       "2      2   35       1              4            5             6   \n",
       "3      3   37       1              7            7             7   \n",
       "4      4   46       1              6            8             7   \n",
       "\n",
       "   OccuPational Hazards  Genetic Risk  chronic Lung Disease  Balanced Diet  \\\n",
       "0                     4             3                     2              2   \n",
       "1                     3             4                     2              2   \n",
       "2                     5             5                     4              6   \n",
       "3                     7             6                     7              7   \n",
       "4                     7             7                     6              7   \n",
       "\n",
       "   ...  Fatigue  Weight Loss  Shortness of Breath  Wheezing  \\\n",
       "0  ...        3            4                    2         2   \n",
       "1  ...        1            3                    7         8   \n",
       "2  ...        8            7                    9         2   \n",
       "3  ...        4            2                    3         1   \n",
       "4  ...        3            2                    4         1   \n",
       "\n",
       "   Swallowing Difficulty  Clubbing of Finger Nails  Frequent Cold  Dry Cough  \\\n",
       "0                      3                         1              2          3   \n",
       "1                      6                         2              1          7   \n",
       "2                      1                         4              6          7   \n",
       "3                      4                         5              6          7   \n",
       "4                      4                         2              4          2   \n",
       "\n",
       "   Snoring   Level  \n",
       "0        4     Low  \n",
       "1        2  Medium  \n",
       "2        2    High  \n",
       "3        5    High  \n",
       "4        3    High  \n",
       "\n",
       "[5 rows x 25 columns]"
      ]
     },
     "execution_count": 167,
     "metadata": {},
     "output_type": "execute_result"
    }
   ],
   "source": [
    "df_Cancer_Patient.head()"
   ]
  },
  {
   "cell_type": "markdown",
   "id": "c3ee6fad-2aa8-4eae-8379-8be9370ed81f",
   "metadata": {},
   "source": [
    "#### EDA (Exploratory Data Analysis)"
   ]
  },
  {
   "cell_type": "markdown",
   "id": "1844b1d0-39d7-497c-a38d-4d8ae39026e1",
   "metadata": {},
   "source": [
    "### Univariate Analysis"
   ]
  },
  {
   "cell_type": "code",
   "execution_count": 171,
   "id": "c056ee4a-46f0-4bd9-96d5-67bc6412da2c",
   "metadata": {},
   "outputs": [
    {
     "data": {
      "text/html": [
       "<div>\n",
       "<style scoped>\n",
       "    .dataframe tbody tr th:only-of-type {\n",
       "        vertical-align: middle;\n",
       "    }\n",
       "\n",
       "    .dataframe tbody tr th {\n",
       "        vertical-align: top;\n",
       "    }\n",
       "\n",
       "    .dataframe thead th {\n",
       "        text-align: right;\n",
       "    }\n",
       "</style>\n",
       "<table border=\"1\" class=\"dataframe\">\n",
       "  <thead>\n",
       "    <tr style=\"text-align: right;\">\n",
       "      <th></th>\n",
       "      <th>Index</th>\n",
       "      <th>Age</th>\n",
       "      <th>Gender</th>\n",
       "      <th>Air Pollution</th>\n",
       "      <th>Alcohol use</th>\n",
       "      <th>Dust Allergy</th>\n",
       "      <th>OccuPational Hazards</th>\n",
       "      <th>Genetic Risk</th>\n",
       "      <th>chronic Lung Disease</th>\n",
       "      <th>Balanced Diet</th>\n",
       "      <th>...</th>\n",
       "      <th>Fatigue</th>\n",
       "      <th>Weight Loss</th>\n",
       "      <th>Shortness of Breath</th>\n",
       "      <th>Wheezing</th>\n",
       "      <th>Swallowing Difficulty</th>\n",
       "      <th>Clubbing of Finger Nails</th>\n",
       "      <th>Frequent Cold</th>\n",
       "      <th>Dry Cough</th>\n",
       "      <th>Snoring</th>\n",
       "      <th>Level</th>\n",
       "    </tr>\n",
       "  </thead>\n",
       "  <tbody>\n",
       "    <tr>\n",
       "      <th>0</th>\n",
       "      <td>0</td>\n",
       "      <td>33</td>\n",
       "      <td>1</td>\n",
       "      <td>2</td>\n",
       "      <td>4</td>\n",
       "      <td>5</td>\n",
       "      <td>4</td>\n",
       "      <td>3</td>\n",
       "      <td>2</td>\n",
       "      <td>2</td>\n",
       "      <td>...</td>\n",
       "      <td>3</td>\n",
       "      <td>4</td>\n",
       "      <td>2</td>\n",
       "      <td>2</td>\n",
       "      <td>3</td>\n",
       "      <td>1</td>\n",
       "      <td>2</td>\n",
       "      <td>3</td>\n",
       "      <td>4</td>\n",
       "      <td>Low</td>\n",
       "    </tr>\n",
       "    <tr>\n",
       "      <th>1</th>\n",
       "      <td>1</td>\n",
       "      <td>17</td>\n",
       "      <td>1</td>\n",
       "      <td>3</td>\n",
       "      <td>1</td>\n",
       "      <td>5</td>\n",
       "      <td>3</td>\n",
       "      <td>4</td>\n",
       "      <td>2</td>\n",
       "      <td>2</td>\n",
       "      <td>...</td>\n",
       "      <td>1</td>\n",
       "      <td>3</td>\n",
       "      <td>7</td>\n",
       "      <td>8</td>\n",
       "      <td>6</td>\n",
       "      <td>2</td>\n",
       "      <td>1</td>\n",
       "      <td>7</td>\n",
       "      <td>2</td>\n",
       "      <td>Medium</td>\n",
       "    </tr>\n",
       "    <tr>\n",
       "      <th>2</th>\n",
       "      <td>2</td>\n",
       "      <td>35</td>\n",
       "      <td>1</td>\n",
       "      <td>4</td>\n",
       "      <td>5</td>\n",
       "      <td>6</td>\n",
       "      <td>5</td>\n",
       "      <td>5</td>\n",
       "      <td>4</td>\n",
       "      <td>6</td>\n",
       "      <td>...</td>\n",
       "      <td>8</td>\n",
       "      <td>7</td>\n",
       "      <td>9</td>\n",
       "      <td>2</td>\n",
       "      <td>1</td>\n",
       "      <td>4</td>\n",
       "      <td>6</td>\n",
       "      <td>7</td>\n",
       "      <td>2</td>\n",
       "      <td>High</td>\n",
       "    </tr>\n",
       "    <tr>\n",
       "      <th>3</th>\n",
       "      <td>3</td>\n",
       "      <td>37</td>\n",
       "      <td>1</td>\n",
       "      <td>7</td>\n",
       "      <td>7</td>\n",
       "      <td>7</td>\n",
       "      <td>7</td>\n",
       "      <td>6</td>\n",
       "      <td>7</td>\n",
       "      <td>7</td>\n",
       "      <td>...</td>\n",
       "      <td>4</td>\n",
       "      <td>2</td>\n",
       "      <td>3</td>\n",
       "      <td>1</td>\n",
       "      <td>4</td>\n",
       "      <td>5</td>\n",
       "      <td>6</td>\n",
       "      <td>7</td>\n",
       "      <td>5</td>\n",
       "      <td>High</td>\n",
       "    </tr>\n",
       "    <tr>\n",
       "      <th>4</th>\n",
       "      <td>4</td>\n",
       "      <td>46</td>\n",
       "      <td>1</td>\n",
       "      <td>6</td>\n",
       "      <td>8</td>\n",
       "      <td>7</td>\n",
       "      <td>7</td>\n",
       "      <td>7</td>\n",
       "      <td>6</td>\n",
       "      <td>7</td>\n",
       "      <td>...</td>\n",
       "      <td>3</td>\n",
       "      <td>2</td>\n",
       "      <td>4</td>\n",
       "      <td>1</td>\n",
       "      <td>4</td>\n",
       "      <td>2</td>\n",
       "      <td>4</td>\n",
       "      <td>2</td>\n",
       "      <td>3</td>\n",
       "      <td>High</td>\n",
       "    </tr>\n",
       "  </tbody>\n",
       "</table>\n",
       "<p>5 rows × 25 columns</p>\n",
       "</div>"
      ],
      "text/plain": [
       "   Index  Age  Gender  Air Pollution  Alcohol use  Dust Allergy  \\\n",
       "0      0   33       1              2            4             5   \n",
       "1      1   17       1              3            1             5   \n",
       "2      2   35       1              4            5             6   \n",
       "3      3   37       1              7            7             7   \n",
       "4      4   46       1              6            8             7   \n",
       "\n",
       "   OccuPational Hazards  Genetic Risk  chronic Lung Disease  Balanced Diet  \\\n",
       "0                     4             3                     2              2   \n",
       "1                     3             4                     2              2   \n",
       "2                     5             5                     4              6   \n",
       "3                     7             6                     7              7   \n",
       "4                     7             7                     6              7   \n",
       "\n",
       "   ...  Fatigue  Weight Loss  Shortness of Breath  Wheezing  \\\n",
       "0  ...        3            4                    2         2   \n",
       "1  ...        1            3                    7         8   \n",
       "2  ...        8            7                    9         2   \n",
       "3  ...        4            2                    3         1   \n",
       "4  ...        3            2                    4         1   \n",
       "\n",
       "   Swallowing Difficulty  Clubbing of Finger Nails  Frequent Cold  Dry Cough  \\\n",
       "0                      3                         1              2          3   \n",
       "1                      6                         2              1          7   \n",
       "2                      1                         4              6          7   \n",
       "3                      4                         5              6          7   \n",
       "4                      4                         2              4          2   \n",
       "\n",
       "   Snoring   Level  \n",
       "0        4     Low  \n",
       "1        2  Medium  \n",
       "2        2    High  \n",
       "3        5    High  \n",
       "4        3    High  \n",
       "\n",
       "[5 rows x 25 columns]"
      ]
     },
     "execution_count": 171,
     "metadata": {},
     "output_type": "execute_result"
    }
   ],
   "source": [
    "df_Cancer_Patient.head()"
   ]
  },
  {
   "cell_type": "code",
   "execution_count": 173,
   "id": "ca65f5c3-f4e0-4ff7-aa37-50062a703564",
   "metadata": {},
   "outputs": [],
   "source": [
    "# Segregate the data based on the data type\n",
    "# Categorical data\n",
    "df_cat = df_Cancer_Patient.select_dtypes(include='object')\n",
    "\n",
    "# Numerical data\n",
    "df_num = df_Cancer_Patient.select_dtypes(include='number')"
   ]
  },
  {
   "cell_type": "code",
   "execution_count": 175,
   "id": "78603d44-1311-4598-b368-667d3f817ba7",
   "metadata": {},
   "outputs": [
    {
     "data": {
      "text/html": [
       "<div>\n",
       "<style scoped>\n",
       "    .dataframe tbody tr th:only-of-type {\n",
       "        vertical-align: middle;\n",
       "    }\n",
       "\n",
       "    .dataframe tbody tr th {\n",
       "        vertical-align: top;\n",
       "    }\n",
       "\n",
       "    .dataframe thead th {\n",
       "        text-align: right;\n",
       "    }\n",
       "</style>\n",
       "<table border=\"1\" class=\"dataframe\">\n",
       "  <thead>\n",
       "    <tr style=\"text-align: right;\">\n",
       "      <th></th>\n",
       "      <th>Level</th>\n",
       "    </tr>\n",
       "  </thead>\n",
       "  <tbody>\n",
       "    <tr>\n",
       "      <th>0</th>\n",
       "      <td>Low</td>\n",
       "    </tr>\n",
       "    <tr>\n",
       "      <th>1</th>\n",
       "      <td>Medium</td>\n",
       "    </tr>\n",
       "    <tr>\n",
       "      <th>2</th>\n",
       "      <td>High</td>\n",
       "    </tr>\n",
       "    <tr>\n",
       "      <th>3</th>\n",
       "      <td>High</td>\n",
       "    </tr>\n",
       "    <tr>\n",
       "      <th>4</th>\n",
       "      <td>High</td>\n",
       "    </tr>\n",
       "  </tbody>\n",
       "</table>\n",
       "</div>"
      ],
      "text/plain": [
       "    Level\n",
       "0     Low\n",
       "1  Medium\n",
       "2    High\n",
       "3    High\n",
       "4    High"
      ]
     },
     "execution_count": 175,
     "metadata": {},
     "output_type": "execute_result"
    }
   ],
   "source": [
    "# Categorical data\n",
    "df_cat.head()"
   ]
  },
  {
   "cell_type": "code",
   "execution_count": 177,
   "id": "f741b923-8dda-4f02-a394-c98bc625f368",
   "metadata": {},
   "outputs": [
    {
     "data": {
      "text/html": [
       "<div>\n",
       "<style scoped>\n",
       "    .dataframe tbody tr th:only-of-type {\n",
       "        vertical-align: middle;\n",
       "    }\n",
       "\n",
       "    .dataframe tbody tr th {\n",
       "        vertical-align: top;\n",
       "    }\n",
       "\n",
       "    .dataframe thead th {\n",
       "        text-align: right;\n",
       "    }\n",
       "</style>\n",
       "<table border=\"1\" class=\"dataframe\">\n",
       "  <thead>\n",
       "    <tr style=\"text-align: right;\">\n",
       "      <th></th>\n",
       "      <th>Index</th>\n",
       "      <th>Age</th>\n",
       "      <th>Gender</th>\n",
       "      <th>Air Pollution</th>\n",
       "      <th>Alcohol use</th>\n",
       "      <th>Dust Allergy</th>\n",
       "      <th>OccuPational Hazards</th>\n",
       "      <th>Genetic Risk</th>\n",
       "      <th>chronic Lung Disease</th>\n",
       "      <th>Balanced Diet</th>\n",
       "      <th>...</th>\n",
       "      <th>Coughing of Blood</th>\n",
       "      <th>Fatigue</th>\n",
       "      <th>Weight Loss</th>\n",
       "      <th>Shortness of Breath</th>\n",
       "      <th>Wheezing</th>\n",
       "      <th>Swallowing Difficulty</th>\n",
       "      <th>Clubbing of Finger Nails</th>\n",
       "      <th>Frequent Cold</th>\n",
       "      <th>Dry Cough</th>\n",
       "      <th>Snoring</th>\n",
       "    </tr>\n",
       "  </thead>\n",
       "  <tbody>\n",
       "    <tr>\n",
       "      <th>0</th>\n",
       "      <td>0</td>\n",
       "      <td>33</td>\n",
       "      <td>1</td>\n",
       "      <td>2</td>\n",
       "      <td>4</td>\n",
       "      <td>5</td>\n",
       "      <td>4</td>\n",
       "      <td>3</td>\n",
       "      <td>2</td>\n",
       "      <td>2</td>\n",
       "      <td>...</td>\n",
       "      <td>4</td>\n",
       "      <td>3</td>\n",
       "      <td>4</td>\n",
       "      <td>2</td>\n",
       "      <td>2</td>\n",
       "      <td>3</td>\n",
       "      <td>1</td>\n",
       "      <td>2</td>\n",
       "      <td>3</td>\n",
       "      <td>4</td>\n",
       "    </tr>\n",
       "    <tr>\n",
       "      <th>1</th>\n",
       "      <td>1</td>\n",
       "      <td>17</td>\n",
       "      <td>1</td>\n",
       "      <td>3</td>\n",
       "      <td>1</td>\n",
       "      <td>5</td>\n",
       "      <td>3</td>\n",
       "      <td>4</td>\n",
       "      <td>2</td>\n",
       "      <td>2</td>\n",
       "      <td>...</td>\n",
       "      <td>3</td>\n",
       "      <td>1</td>\n",
       "      <td>3</td>\n",
       "      <td>7</td>\n",
       "      <td>8</td>\n",
       "      <td>6</td>\n",
       "      <td>2</td>\n",
       "      <td>1</td>\n",
       "      <td>7</td>\n",
       "      <td>2</td>\n",
       "    </tr>\n",
       "    <tr>\n",
       "      <th>2</th>\n",
       "      <td>2</td>\n",
       "      <td>35</td>\n",
       "      <td>1</td>\n",
       "      <td>4</td>\n",
       "      <td>5</td>\n",
       "      <td>6</td>\n",
       "      <td>5</td>\n",
       "      <td>5</td>\n",
       "      <td>4</td>\n",
       "      <td>6</td>\n",
       "      <td>...</td>\n",
       "      <td>8</td>\n",
       "      <td>8</td>\n",
       "      <td>7</td>\n",
       "      <td>9</td>\n",
       "      <td>2</td>\n",
       "      <td>1</td>\n",
       "      <td>4</td>\n",
       "      <td>6</td>\n",
       "      <td>7</td>\n",
       "      <td>2</td>\n",
       "    </tr>\n",
       "    <tr>\n",
       "      <th>3</th>\n",
       "      <td>3</td>\n",
       "      <td>37</td>\n",
       "      <td>1</td>\n",
       "      <td>7</td>\n",
       "      <td>7</td>\n",
       "      <td>7</td>\n",
       "      <td>7</td>\n",
       "      <td>6</td>\n",
       "      <td>7</td>\n",
       "      <td>7</td>\n",
       "      <td>...</td>\n",
       "      <td>8</td>\n",
       "      <td>4</td>\n",
       "      <td>2</td>\n",
       "      <td>3</td>\n",
       "      <td>1</td>\n",
       "      <td>4</td>\n",
       "      <td>5</td>\n",
       "      <td>6</td>\n",
       "      <td>7</td>\n",
       "      <td>5</td>\n",
       "    </tr>\n",
       "    <tr>\n",
       "      <th>4</th>\n",
       "      <td>4</td>\n",
       "      <td>46</td>\n",
       "      <td>1</td>\n",
       "      <td>6</td>\n",
       "      <td>8</td>\n",
       "      <td>7</td>\n",
       "      <td>7</td>\n",
       "      <td>7</td>\n",
       "      <td>6</td>\n",
       "      <td>7</td>\n",
       "      <td>...</td>\n",
       "      <td>9</td>\n",
       "      <td>3</td>\n",
       "      <td>2</td>\n",
       "      <td>4</td>\n",
       "      <td>1</td>\n",
       "      <td>4</td>\n",
       "      <td>2</td>\n",
       "      <td>4</td>\n",
       "      <td>2</td>\n",
       "      <td>3</td>\n",
       "    </tr>\n",
       "  </tbody>\n",
       "</table>\n",
       "<p>5 rows × 24 columns</p>\n",
       "</div>"
      ],
      "text/plain": [
       "   Index  Age  Gender  Air Pollution  Alcohol use  Dust Allergy  \\\n",
       "0      0   33       1              2            4             5   \n",
       "1      1   17       1              3            1             5   \n",
       "2      2   35       1              4            5             6   \n",
       "3      3   37       1              7            7             7   \n",
       "4      4   46       1              6            8             7   \n",
       "\n",
       "   OccuPational Hazards  Genetic Risk  chronic Lung Disease  Balanced Diet  \\\n",
       "0                     4             3                     2              2   \n",
       "1                     3             4                     2              2   \n",
       "2                     5             5                     4              6   \n",
       "3                     7             6                     7              7   \n",
       "4                     7             7                     6              7   \n",
       "\n",
       "   ...  Coughing of Blood  Fatigue  Weight Loss  Shortness of Breath  \\\n",
       "0  ...                  4        3            4                    2   \n",
       "1  ...                  3        1            3                    7   \n",
       "2  ...                  8        8            7                    9   \n",
       "3  ...                  8        4            2                    3   \n",
       "4  ...                  9        3            2                    4   \n",
       "\n",
       "   Wheezing  Swallowing Difficulty  Clubbing of Finger Nails  Frequent Cold  \\\n",
       "0         2                      3                         1              2   \n",
       "1         8                      6                         2              1   \n",
       "2         2                      1                         4              6   \n",
       "3         1                      4                         5              6   \n",
       "4         1                      4                         2              4   \n",
       "\n",
       "   Dry Cough  Snoring  \n",
       "0          3        4  \n",
       "1          7        2  \n",
       "2          7        2  \n",
       "3          7        5  \n",
       "4          2        3  \n",
       "\n",
       "[5 rows x 24 columns]"
      ]
     },
     "execution_count": 177,
     "metadata": {},
     "output_type": "execute_result"
    }
   ],
   "source": [
    "# Numerical data\n",
    "df_num.head()"
   ]
  },
  {
   "cell_type": "markdown",
   "id": "a209e457-34d4-440e-a921-8f2d3abcdffc",
   "metadata": {},
   "source": [
    "### Univariate analysis on umerical data"
   ]
  },
  {
   "cell_type": "code",
   "execution_count": 180,
   "id": "f54f69a1-199b-4f47-ac61-d6e90ab503d7",
   "metadata": {},
   "outputs": [
    {
     "data": {
      "text/plain": [
       "Index(['Index', 'Age', 'Gender', 'Air Pollution', 'Alcohol use',\n",
       "       'Dust Allergy', 'OccuPational Hazards', 'Genetic Risk',\n",
       "       'chronic Lung Disease', 'Balanced Diet', 'Obesity', 'Smoking',\n",
       "       'Passive Smoker', 'Chest Pain', 'Coughing of Blood', 'Fatigue',\n",
       "       'Weight Loss', 'Shortness of Breath', 'Wheezing',\n",
       "       'Swallowing Difficulty', 'Clubbing of Finger Nails', 'Frequent Cold',\n",
       "       'Dry Cough', 'Snoring'],\n",
       "      dtype='object')"
      ]
     },
     "execution_count": 180,
     "metadata": {},
     "output_type": "execute_result"
    }
   ],
   "source": [
    "# Show the columns in the numerical data\n",
    "df_num.columns"
   ]
  },
  {
   "cell_type": "markdown",
   "id": "54c48a6a-b98c-4564-a56f-173a722bb06b",
   "metadata": {},
   "source": [
    "**Interpretation** \n",
    "- Average index is 499.500,Minimum index is 0.0\t,Maximum index is 999.0\n",
    "- Average age is 37.174, Minimum age is 14.0 , Maximum age is 73.0\n",
    "- Average Gender is 1.402 , Minimum Gender is 1.0, Maximum Gender is 2.0\n",
    "- Average Air Pollution\tis 3.840 , Minimum Air Pollution is 1.0 , Maximum Air Pollution is 8.0\n",
    "- Average Alcohol use is 4.563, Minimum Alcohol use is 1.0, Maximum Alcohol use is 8.0\n",
    "- Average Dust Allergy is 5.165 ,Minimum Dust Allergy 1.0 ,Maximum Dust Allergy\tis 8.0\n",
    "- Average OccuPational Hazards is 4.840, Minimum OccuPational Hazardsis 1.0, Maximum OccuPational Hazards is 8.0\n",
    "- Average Genetic Risk\t is 4.580,Minimum Genetic Risk\t is 1.0\t,Maximum Genetic Risk\t is 7.0\n",
    "- Average chronic Lung Disease is 4.380, Minimum chronic Lung Disease is 1.0,Maximum chronic Lung Disease is 7.0\n",
    "- Average Balanced Diet is 4.491, Minimum Balanced Diet is 1.0,Maximum Balanced Diet is 7.0\n",
    "- Average Obesity is 4.465, Minimum Obesity is 1.0,Maximum Obesityis 7.0\n",
    "- Average Smoking is 3.948, Minimum Smoking is 1.0,Maximum Smoking is 8.0\n",
    "- Average Passive Smoker is 4.195, Minimum Passive Smoker is 1.0,Maximum Passive Smoker is 8.0\n",
    "- Average Chest Pain is 4.438, Minimum Chest Pain is 1.0,Maximum Chest Pain is 9.0\n",
    "- Average Coughing of Blood is 4.859, Minimum Coughing of Blood is 1.0,Maximum Coughing of Blood is 9.0\n",
    "- Average Fatigue is 3.856, Minimum Fatigue is 1.0,Maximum Fatigue is 9.0\n",
    "- Average Weight Loss is 3.855, Minimum Weight Loss is 1.0,Maximum Weight Loss is 8.0\n",
    "- Average Shortness of Breath is 4.240, Minimum Shortness of Breath is 1.0,Maximum Shortness of Breath is 9.0\n",
    "- Average Wheezing is 3.777, Minimum Wheezing is 1.0,Maximum Wheezing is 8.0\n",
    "- Average Swallowing Difficulty is 3.746, Minimum Swallowing Difficulty is 1.0,Maximum Swallowing Difficulty is 8.0\n",
    "- Average Clubbing of Finger Nails is 3.923, Minimum Clubbing of Finger Nails is 1.0,Maximum Clubbing of Finger Nails is 9.0\n",
    "- Average Frequent Cold is 3.536, Minimum Frequent Cold is 1.0,Maximum Frequent Cold is 7.0\n",
    "- Average Dry Cough\t is 3.853, Minimum Dry Cough is 1.0,Maximum Dry Cough is 7.0\n",
    "- Average Snoring is 2.926, Minimum Snoring is 1.0,Maximum Snoring is 7.0"
   ]
  },
  {
   "cell_type": "markdown",
   "id": "dbec7dc7-bb76-431e-84df-d51097213351",
   "metadata": {},
   "source": [
    "### Univariate Analysis on Categorical Data "
   ]
  },
  {
   "cell_type": "code",
   "execution_count": 184,
   "id": "852c5997-5113-4aae-86ce-3ad20a737f2d",
   "metadata": {},
   "outputs": [
    {
     "data": {
      "text/html": [
       "<div>\n",
       "<style scoped>\n",
       "    .dataframe tbody tr th:only-of-type {\n",
       "        vertical-align: middle;\n",
       "    }\n",
       "\n",
       "    .dataframe tbody tr th {\n",
       "        vertical-align: top;\n",
       "    }\n",
       "\n",
       "    .dataframe thead th {\n",
       "        text-align: right;\n",
       "    }\n",
       "</style>\n",
       "<table border=\"1\" class=\"dataframe\">\n",
       "  <thead>\n",
       "    <tr style=\"text-align: right;\">\n",
       "      <th></th>\n",
       "      <th>Level</th>\n",
       "    </tr>\n",
       "  </thead>\n",
       "  <tbody>\n",
       "    <tr>\n",
       "      <th>0</th>\n",
       "      <td>Low</td>\n",
       "    </tr>\n",
       "    <tr>\n",
       "      <th>1</th>\n",
       "      <td>Medium</td>\n",
       "    </tr>\n",
       "    <tr>\n",
       "      <th>2</th>\n",
       "      <td>High</td>\n",
       "    </tr>\n",
       "    <tr>\n",
       "      <th>3</th>\n",
       "      <td>High</td>\n",
       "    </tr>\n",
       "    <tr>\n",
       "      <th>4</th>\n",
       "      <td>High</td>\n",
       "    </tr>\n",
       "  </tbody>\n",
       "</table>\n",
       "</div>"
      ],
      "text/plain": [
       "    Level\n",
       "0     Low\n",
       "1  Medium\n",
       "2    High\n",
       "3    High\n",
       "4    High"
      ]
     },
     "execution_count": 184,
     "metadata": {},
     "output_type": "execute_result"
    }
   ],
   "source": [
    "# show the data in categoical data fram \n",
    "df_cat.head()"
   ]
  },
  {
   "cell_type": "code",
   "execution_count": 186,
   "id": "c4af06b0-6129-4b58-9758-d7131c77daa9",
   "metadata": {},
   "outputs": [
    {
     "data": {
      "text/plain": [
       "Index(['Level'], dtype='object')"
      ]
     },
     "execution_count": 186,
     "metadata": {},
     "output_type": "execute_result"
    }
   ],
   "source": [
    "df_cat.columns"
   ]
  },
  {
   "cell_type": "code",
   "execution_count": 188,
   "id": "7bb1b073-a1c8-499e-960a-d4d03450232c",
   "metadata": {},
   "outputs": [
    {
     "data": {
      "text/plain": [
       "Index(['Level'], dtype='object')"
      ]
     },
     "execution_count": 188,
     "metadata": {},
     "output_type": "execute_result"
    }
   ],
   "source": [
    "df_cat.columns"
   ]
  },
  {
   "cell_type": "markdown",
   "id": "d625be40-dced-4fa9-9f20-3f6ddc897e22",
   "metadata": {},
   "source": [
    "### Level"
   ]
  },
  {
   "cell_type": "code",
   "execution_count": 191,
   "id": "2e2ece8d-e6c3-4bc5-97ee-11696185c9ef",
   "metadata": {},
   "outputs": [
    {
     "data": {
      "text/plain": [
       "Level\n",
       "High      365\n",
       "Medium    332\n",
       "Low       303\n",
       "Name: count, dtype: int64"
      ]
     },
     "execution_count": 191,
     "metadata": {},
     "output_type": "execute_result"
    }
   ],
   "source": [
    "# show the count of Fresh_Water_Resource avallable\n",
    "df_cat.Level.value_counts()"
   ]
  },
  {
   "cell_type": "code",
   "execution_count": 193,
   "id": "dbb2d24d-b3ad-4442-92f8-000017e7a402",
   "metadata": {},
   "outputs": [
    {
     "data": {
      "image/png": "[encoded data removed]",
      "text/plain": [
       "<Figure size 640x480 with 1 Axes>"
      ]
     },
     "metadata": {},
     "output_type": "display_data"
    }
   ],
   "source": [
    "# Do the visulization of that count\n",
    "df_cat.Level.value_counts().plot(kind='bar',color='purple')\n",
    "plt.xticks(rotation= 0)\n",
    "plt.title('count of Level')\n",
    "plt.grid()\n",
    "plt.ylabel('count')\n",
    "plt.show()"
   ]
  },
  {
   "cell_type": "markdown",
   "id": "fc60cb0c-851b-4754-ac67-0a7e48a52940",
   "metadata": {},
   "source": [
    "**Interpretation**\n",
    "- we have 365 High level is present \n",
    "- We have 332 Mdedium Level is present\n",
    "- We have 303 Low level is present "
   ]
  },
  {
   "cell_type": "markdown",
   "id": "f331671f-8b4a-469e-9091-9658b4ff4d26",
   "metadata": {},
   "source": [
    "### Bivariate Analysis\n"
   ]
  },
  {
   "cell_type": "code",
   "execution_count": 197,
   "id": "41b91556-9967-4fe3-b1cf-2a78fc5a9d7d",
   "metadata": {},
   "outputs": [
    {
     "data": {
      "text/html": [
       "<div>\n",
       "<style scoped>\n",
       "    .dataframe tbody tr th:only-of-type {\n",
       "        vertical-align: middle;\n",
       "    }\n",
       "\n",
       "    .dataframe tbody tr th {\n",
       "        vertical-align: top;\n",
       "    }\n",
       "\n",
       "    .dataframe thead th {\n",
       "        text-align: right;\n",
       "    }\n",
       "</style>\n",
       "<table border=\"1\" class=\"dataframe\">\n",
       "  <thead>\n",
       "    <tr style=\"text-align: right;\">\n",
       "      <th></th>\n",
       "      <th>Index</th>\n",
       "      <th>Age</th>\n",
       "      <th>Gender</th>\n",
       "      <th>Air Pollution</th>\n",
       "      <th>Alcohol use</th>\n",
       "      <th>Dust Allergy</th>\n",
       "      <th>OccuPational Hazards</th>\n",
       "      <th>Genetic Risk</th>\n",
       "      <th>chronic Lung Disease</th>\n",
       "      <th>Balanced Diet</th>\n",
       "      <th>...</th>\n",
       "      <th>Coughing of Blood</th>\n",
       "      <th>Fatigue</th>\n",
       "      <th>Weight Loss</th>\n",
       "      <th>Shortness of Breath</th>\n",
       "      <th>Wheezing</th>\n",
       "      <th>Swallowing Difficulty</th>\n",
       "      <th>Clubbing of Finger Nails</th>\n",
       "      <th>Frequent Cold</th>\n",
       "      <th>Dry Cough</th>\n",
       "      <th>Snoring</th>\n",
       "    </tr>\n",
       "  </thead>\n",
       "  <tbody>\n",
       "    <tr>\n",
       "      <th>0</th>\n",
       "      <td>0</td>\n",
       "      <td>33</td>\n",
       "      <td>1</td>\n",
       "      <td>2</td>\n",
       "      <td>4</td>\n",
       "      <td>5</td>\n",
       "      <td>4</td>\n",
       "      <td>3</td>\n",
       "      <td>2</td>\n",
       "      <td>2</td>\n",
       "      <td>...</td>\n",
       "      <td>4</td>\n",
       "      <td>3</td>\n",
       "      <td>4</td>\n",
       "      <td>2</td>\n",
       "      <td>2</td>\n",
       "      <td>3</td>\n",
       "      <td>1</td>\n",
       "      <td>2</td>\n",
       "      <td>3</td>\n",
       "      <td>4</td>\n",
       "    </tr>\n",
       "    <tr>\n",
       "      <th>1</th>\n",
       "      <td>1</td>\n",
       "      <td>17</td>\n",
       "      <td>1</td>\n",
       "      <td>3</td>\n",
       "      <td>1</td>\n",
       "      <td>5</td>\n",
       "      <td>3</td>\n",
       "      <td>4</td>\n",
       "      <td>2</td>\n",
       "      <td>2</td>\n",
       "      <td>...</td>\n",
       "      <td>3</td>\n",
       "      <td>1</td>\n",
       "      <td>3</td>\n",
       "      <td>7</td>\n",
       "      <td>8</td>\n",
       "      <td>6</td>\n",
       "      <td>2</td>\n",
       "      <td>1</td>\n",
       "      <td>7</td>\n",
       "      <td>2</td>\n",
       "    </tr>\n",
       "    <tr>\n",
       "      <th>2</th>\n",
       "      <td>2</td>\n",
       "      <td>35</td>\n",
       "      <td>1</td>\n",
       "      <td>4</td>\n",
       "      <td>5</td>\n",
       "      <td>6</td>\n",
       "      <td>5</td>\n",
       "      <td>5</td>\n",
       "      <td>4</td>\n",
       "      <td>6</td>\n",
       "      <td>...</td>\n",
       "      <td>8</td>\n",
       "      <td>8</td>\n",
       "      <td>7</td>\n",
       "      <td>9</td>\n",
       "      <td>2</td>\n",
       "      <td>1</td>\n",
       "      <td>4</td>\n",
       "      <td>6</td>\n",
       "      <td>7</td>\n",
       "      <td>2</td>\n",
       "    </tr>\n",
       "    <tr>\n",
       "      <th>3</th>\n",
       "      <td>3</td>\n",
       "      <td>37</td>\n",
       "      <td>1</td>\n",
       "      <td>7</td>\n",
       "      <td>7</td>\n",
       "      <td>7</td>\n",
       "      <td>7</td>\n",
       "      <td>6</td>\n",
       "      <td>7</td>\n",
       "      <td>7</td>\n",
       "      <td>...</td>\n",
       "      <td>8</td>\n",
       "      <td>4</td>\n",
       "      <td>2</td>\n",
       "      <td>3</td>\n",
       "      <td>1</td>\n",
       "      <td>4</td>\n",
       "      <td>5</td>\n",
       "      <td>6</td>\n",
       "      <td>7</td>\n",
       "      <td>5</td>\n",
       "    </tr>\n",
       "    <tr>\n",
       "      <th>4</th>\n",
       "      <td>4</td>\n",
       "      <td>46</td>\n",
       "      <td>1</td>\n",
       "      <td>6</td>\n",
       "      <td>8</td>\n",
       "      <td>7</td>\n",
       "      <td>7</td>\n",
       "      <td>7</td>\n",
       "      <td>6</td>\n",
       "      <td>7</td>\n",
       "      <td>...</td>\n",
       "      <td>9</td>\n",
       "      <td>3</td>\n",
       "      <td>2</td>\n",
       "      <td>4</td>\n",
       "      <td>1</td>\n",
       "      <td>4</td>\n",
       "      <td>2</td>\n",
       "      <td>4</td>\n",
       "      <td>2</td>\n",
       "      <td>3</td>\n",
       "    </tr>\n",
       "  </tbody>\n",
       "</table>\n",
       "<p>5 rows × 24 columns</p>\n",
       "</div>"
      ],
      "text/plain": [
       "   Index  Age  Gender  Air Pollution  Alcohol use  Dust Allergy  \\\n",
       "0      0   33       1              2            4             5   \n",
       "1      1   17       1              3            1             5   \n",
       "2      2   35       1              4            5             6   \n",
       "3      3   37       1              7            7             7   \n",
       "4      4   46       1              6            8             7   \n",
       "\n",
       "   OccuPational Hazards  Genetic Risk  chronic Lung Disease  Balanced Diet  \\\n",
       "0                     4             3                     2              2   \n",
       "1                     3             4                     2              2   \n",
       "2                     5             5                     4              6   \n",
       "3                     7             6                     7              7   \n",
       "4                     7             7                     6              7   \n",
       "\n",
       "   ...  Coughing of Blood  Fatigue  Weight Loss  Shortness of Breath  \\\n",
       "0  ...                  4        3            4                    2   \n",
       "1  ...                  3        1            3                    7   \n",
       "2  ...                  8        8            7                    9   \n",
       "3  ...                  8        4            2                    3   \n",
       "4  ...                  9        3            2                    4   \n",
       "\n",
       "   Wheezing  Swallowing Difficulty  Clubbing of Finger Nails  Frequent Cold  \\\n",
       "0         2                      3                         1              2   \n",
       "1         8                      6                         2              1   \n",
       "2         2                      1                         4              6   \n",
       "3         1                      4                         5              6   \n",
       "4         1                      4                         2              4   \n",
       "\n",
       "   Dry Cough  Snoring  \n",
       "0          3        4  \n",
       "1          7        2  \n",
       "2          7        2  \n",
       "3          7        5  \n",
       "4          2        3  \n",
       "\n",
       "[5 rows x 24 columns]"
      ]
     },
     "execution_count": 197,
     "metadata": {},
     "output_type": "execute_result"
    }
   ],
   "source": [
    "# show the first 5 observation of the data.\n",
    "df_num.head()"
   ]
  },
  {
   "cell_type": "code",
   "execution_count": 199,
   "id": "df9aa57d-1ed2-4dc5-8781-e6a559f4a11f",
   "metadata": {},
   "outputs": [
    {
     "data": {
      "text/html": [
       "<div>\n",
       "<style scoped>\n",
       "    .dataframe tbody tr th:only-of-type {\n",
       "        vertical-align: middle;\n",
       "    }\n",
       "\n",
       "    .dataframe tbody tr th {\n",
       "        vertical-align: top;\n",
       "    }\n",
       "\n",
       "    .dataframe thead th {\n",
       "        text-align: right;\n",
       "    }\n",
       "</style>\n",
       "<table border=\"1\" class=\"dataframe\">\n",
       "  <thead>\n",
       "    <tr style=\"text-align: right;\">\n",
       "      <th></th>\n",
       "      <th>Index</th>\n",
       "      <th>Age</th>\n",
       "      <th>Gender</th>\n",
       "      <th>Air Pollution</th>\n",
       "      <th>Alcohol use</th>\n",
       "      <th>Dust Allergy</th>\n",
       "      <th>OccuPational Hazards</th>\n",
       "      <th>Genetic Risk</th>\n",
       "      <th>chronic Lung Disease</th>\n",
       "      <th>Balanced Diet</th>\n",
       "      <th>...</th>\n",
       "      <th>Coughing of Blood</th>\n",
       "      <th>Fatigue</th>\n",
       "      <th>Weight Loss</th>\n",
       "      <th>Shortness of Breath</th>\n",
       "      <th>Wheezing</th>\n",
       "      <th>Swallowing Difficulty</th>\n",
       "      <th>Clubbing of Finger Nails</th>\n",
       "      <th>Frequent Cold</th>\n",
       "      <th>Dry Cough</th>\n",
       "      <th>Snoring</th>\n",
       "    </tr>\n",
       "  </thead>\n",
       "  <tbody>\n",
       "    <tr>\n",
       "      <th>Index</th>\n",
       "      <td>1.000000</td>\n",
       "      <td>0.002674</td>\n",
       "      <td>-0.025739</td>\n",
       "      <td>0.053307</td>\n",
       "      <td>0.041374</td>\n",
       "      <td>0.037960</td>\n",
       "      <td>0.032355</td>\n",
       "      <td>0.030725</td>\n",
       "      <td>0.025177</td>\n",
       "      <td>0.030743</td>\n",
       "      <td>...</td>\n",
       "      <td>0.049401</td>\n",
       "      <td>0.042346</td>\n",
       "      <td>0.026393</td>\n",
       "      <td>0.027950</td>\n",
       "      <td>0.015078</td>\n",
       "      <td>0.005573</td>\n",
       "      <td>0.015706</td>\n",
       "      <td>0.045687</td>\n",
       "      <td>0.003793</td>\n",
       "      <td>-0.002957</td>\n",
       "    </tr>\n",
       "    <tr>\n",
       "      <th>Age</th>\n",
       "      <td>0.002674</td>\n",
       "      <td>1.000000</td>\n",
       "      <td>-0.202086</td>\n",
       "      <td>0.099494</td>\n",
       "      <td>0.151742</td>\n",
       "      <td>0.035202</td>\n",
       "      <td>0.062177</td>\n",
       "      <td>0.073151</td>\n",
       "      <td>0.128952</td>\n",
       "      <td>0.004863</td>\n",
       "      <td>...</td>\n",
       "      <td>0.053006</td>\n",
       "      <td>0.095059</td>\n",
       "      <td>0.106946</td>\n",
       "      <td>0.035329</td>\n",
       "      <td>-0.095354</td>\n",
       "      <td>-0.105833</td>\n",
       "      <td>0.039258</td>\n",
       "      <td>-0.012706</td>\n",
       "      <td>0.012128</td>\n",
       "      <td>-0.004700</td>\n",
       "    </tr>\n",
       "    <tr>\n",
       "      <th>Gender</th>\n",
       "      <td>-0.025739</td>\n",
       "      <td>-0.202086</td>\n",
       "      <td>1.000000</td>\n",
       "      <td>-0.246912</td>\n",
       "      <td>-0.227636</td>\n",
       "      <td>-0.204312</td>\n",
       "      <td>-0.192343</td>\n",
       "      <td>-0.222727</td>\n",
       "      <td>-0.205061</td>\n",
       "      <td>-0.099741</td>\n",
       "      <td>...</td>\n",
       "      <td>-0.146505</td>\n",
       "      <td>-0.116467</td>\n",
       "      <td>-0.057993</td>\n",
       "      <td>-0.045972</td>\n",
       "      <td>-0.076304</td>\n",
       "      <td>-0.058324</td>\n",
       "      <td>-0.034219</td>\n",
       "      <td>-0.000526</td>\n",
       "      <td>-0.123001</td>\n",
       "      <td>-0.181618</td>\n",
       "    </tr>\n",
       "    <tr>\n",
       "      <th>Air Pollution</th>\n",
       "      <td>0.053307</td>\n",
       "      <td>0.099494</td>\n",
       "      <td>-0.246912</td>\n",
       "      <td>1.000000</td>\n",
       "      <td>0.747293</td>\n",
       "      <td>0.637503</td>\n",
       "      <td>0.608924</td>\n",
       "      <td>0.705276</td>\n",
       "      <td>0.626701</td>\n",
       "      <td>0.524873</td>\n",
       "      <td>...</td>\n",
       "      <td>0.607829</td>\n",
       "      <td>0.211724</td>\n",
       "      <td>0.258016</td>\n",
       "      <td>0.269558</td>\n",
       "      <td>0.055368</td>\n",
       "      <td>-0.080918</td>\n",
       "      <td>0.241065</td>\n",
       "      <td>0.174539</td>\n",
       "      <td>0.261489</td>\n",
       "      <td>-0.021343</td>\n",
       "    </tr>\n",
       "    <tr>\n",
       "      <th>Alcohol use</th>\n",
       "      <td>0.041374</td>\n",
       "      <td>0.151742</td>\n",
       "      <td>-0.227636</td>\n",
       "      <td>0.747293</td>\n",
       "      <td>1.000000</td>\n",
       "      <td>0.818644</td>\n",
       "      <td>0.878786</td>\n",
       "      <td>0.877210</td>\n",
       "      <td>0.763576</td>\n",
       "      <td>0.653352</td>\n",
       "      <td>...</td>\n",
       "      <td>0.667612</td>\n",
       "      <td>0.237245</td>\n",
       "      <td>0.207851</td>\n",
       "      <td>0.435785</td>\n",
       "      <td>0.180817</td>\n",
       "      <td>-0.114073</td>\n",
       "      <td>0.414992</td>\n",
       "      <td>0.180778</td>\n",
       "      <td>0.211277</td>\n",
       "      <td>0.122694</td>\n",
       "    </tr>\n",
       "    <tr>\n",
       "      <th>Dust Allergy</th>\n",
       "      <td>0.037960</td>\n",
       "      <td>0.035202</td>\n",
       "      <td>-0.204312</td>\n",
       "      <td>0.637503</td>\n",
       "      <td>0.818644</td>\n",
       "      <td>1.000000</td>\n",
       "      <td>0.835860</td>\n",
       "      <td>0.787904</td>\n",
       "      <td>0.619556</td>\n",
       "      <td>0.647197</td>\n",
       "      <td>...</td>\n",
       "      <td>0.625291</td>\n",
       "      <td>0.332472</td>\n",
       "      <td>0.321756</td>\n",
       "      <td>0.518682</td>\n",
       "      <td>0.304850</td>\n",
       "      <td>0.031141</td>\n",
       "      <td>0.345714</td>\n",
       "      <td>0.219389</td>\n",
       "      <td>0.300195</td>\n",
       "      <td>0.052844</td>\n",
       "    </tr>\n",
       "    <tr>\n",
       "      <th>OccuPational Hazards</th>\n",
       "      <td>0.032355</td>\n",
       "      <td>0.062177</td>\n",
       "      <td>-0.192343</td>\n",
       "      <td>0.608924</td>\n",
       "      <td>0.878786</td>\n",
       "      <td>0.835860</td>\n",
       "      <td>1.000000</td>\n",
       "      <td>0.893049</td>\n",
       "      <td>0.858284</td>\n",
       "      <td>0.691509</td>\n",
       "      <td>...</td>\n",
       "      <td>0.645947</td>\n",
       "      <td>0.267844</td>\n",
       "      <td>0.176226</td>\n",
       "      <td>0.366482</td>\n",
       "      <td>0.178925</td>\n",
       "      <td>-0.002853</td>\n",
       "      <td>0.366447</td>\n",
       "      <td>0.077166</td>\n",
       "      <td>0.159887</td>\n",
       "      <td>0.022916</td>\n",
       "    </tr>\n",
       "    <tr>\n",
       "      <th>Genetic Risk</th>\n",
       "      <td>0.030725</td>\n",
       "      <td>0.073151</td>\n",
       "      <td>-0.222727</td>\n",
       "      <td>0.705276</td>\n",
       "      <td>0.877210</td>\n",
       "      <td>0.787904</td>\n",
       "      <td>0.893049</td>\n",
       "      <td>1.000000</td>\n",
       "      <td>0.836231</td>\n",
       "      <td>0.679905</td>\n",
       "      <td>...</td>\n",
       "      <td>0.632236</td>\n",
       "      <td>0.230530</td>\n",
       "      <td>0.271743</td>\n",
       "      <td>0.458200</td>\n",
       "      <td>0.204973</td>\n",
       "      <td>-0.062948</td>\n",
       "      <td>0.357815</td>\n",
       "      <td>0.087092</td>\n",
       "      <td>0.194399</td>\n",
       "      <td>-0.056831</td>\n",
       "    </tr>\n",
       "    <tr>\n",
       "      <th>chronic Lung Disease</th>\n",
       "      <td>0.025177</td>\n",
       "      <td>0.128952</td>\n",
       "      <td>-0.205061</td>\n",
       "      <td>0.626701</td>\n",
       "      <td>0.763576</td>\n",
       "      <td>0.619556</td>\n",
       "      <td>0.858284</td>\n",
       "      <td>0.836231</td>\n",
       "      <td>1.000000</td>\n",
       "      <td>0.622632</td>\n",
       "      <td>...</td>\n",
       "      <td>0.602987</td>\n",
       "      <td>0.247697</td>\n",
       "      <td>0.104080</td>\n",
       "      <td>0.182426</td>\n",
       "      <td>0.057214</td>\n",
       "      <td>0.007279</td>\n",
       "      <td>0.298023</td>\n",
       "      <td>0.028759</td>\n",
       "      <td>0.114161</td>\n",
       "      <td>0.043375</td>\n",
       "    </tr>\n",
       "    <tr>\n",
       "      <th>Balanced Diet</th>\n",
       "      <td>0.030743</td>\n",
       "      <td>0.004863</td>\n",
       "      <td>-0.099741</td>\n",
       "      <td>0.524873</td>\n",
       "      <td>0.653352</td>\n",
       "      <td>0.647197</td>\n",
       "      <td>0.691509</td>\n",
       "      <td>0.679905</td>\n",
       "      <td>0.622632</td>\n",
       "      <td>1.000000</td>\n",
       "      <td>...</td>\n",
       "      <td>0.745054</td>\n",
       "      <td>0.400678</td>\n",
       "      <td>-0.006544</td>\n",
       "      <td>0.343623</td>\n",
       "      <td>0.063930</td>\n",
       "      <td>0.046807</td>\n",
       "      <td>0.041967</td>\n",
       "      <td>0.263931</td>\n",
       "      <td>0.331995</td>\n",
       "      <td>0.152677</td>\n",
       "    </tr>\n",
       "    <tr>\n",
       "      <th>Obesity</th>\n",
       "      <td>0.050584</td>\n",
       "      <td>0.034337</td>\n",
       "      <td>-0.123813</td>\n",
       "      <td>0.601468</td>\n",
       "      <td>0.669312</td>\n",
       "      <td>0.700676</td>\n",
       "      <td>0.722191</td>\n",
       "      <td>0.729826</td>\n",
       "      <td>0.601754</td>\n",
       "      <td>0.706922</td>\n",
       "      <td>...</td>\n",
       "      <td>0.814805</td>\n",
       "      <td>0.552788</td>\n",
       "      <td>0.313495</td>\n",
       "      <td>0.406203</td>\n",
       "      <td>0.094287</td>\n",
       "      <td>0.127213</td>\n",
       "      <td>0.149093</td>\n",
       "      <td>0.288368</td>\n",
       "      <td>0.200618</td>\n",
       "      <td>0.039422</td>\n",
       "    </tr>\n",
       "    <tr>\n",
       "      <th>Smoking</th>\n",
       "      <td>0.018407</td>\n",
       "      <td>0.075333</td>\n",
       "      <td>-0.206924</td>\n",
       "      <td>0.481902</td>\n",
       "      <td>0.547035</td>\n",
       "      <td>0.358691</td>\n",
       "      <td>0.497693</td>\n",
       "      <td>0.543259</td>\n",
       "      <td>0.578585</td>\n",
       "      <td>0.645390</td>\n",
       "      <td>...</td>\n",
       "      <td>0.555289</td>\n",
       "      <td>0.200029</td>\n",
       "      <td>-0.212937</td>\n",
       "      <td>-0.023259</td>\n",
       "      <td>-0.047060</td>\n",
       "      <td>0.236141</td>\n",
       "      <td>-0.041147</td>\n",
       "      <td>0.039585</td>\n",
       "      <td>0.010101</td>\n",
       "      <td>0.189055</td>\n",
       "    </tr>\n",
       "    <tr>\n",
       "      <th>Passive Smoker</th>\n",
       "      <td>0.019517</td>\n",
       "      <td>0.004908</td>\n",
       "      <td>-0.184826</td>\n",
       "      <td>0.606764</td>\n",
       "      <td>0.592576</td>\n",
       "      <td>0.560002</td>\n",
       "      <td>0.555311</td>\n",
       "      <td>0.609071</td>\n",
       "      <td>0.572698</td>\n",
       "      <td>0.725123</td>\n",
       "      <td>...</td>\n",
       "      <td>0.636223</td>\n",
       "      <td>0.377919</td>\n",
       "      <td>0.058336</td>\n",
       "      <td>0.062948</td>\n",
       "      <td>0.200283</td>\n",
       "      <td>0.348922</td>\n",
       "      <td>-0.035536</td>\n",
       "      <td>0.104553</td>\n",
       "      <td>0.120761</td>\n",
       "      <td>0.247943</td>\n",
       "    </tr>\n",
       "    <tr>\n",
       "      <th>Chest Pain</th>\n",
       "      <td>0.022210</td>\n",
       "      <td>0.012864</td>\n",
       "      <td>-0.218426</td>\n",
       "      <td>0.585734</td>\n",
       "      <td>0.717242</td>\n",
       "      <td>0.639983</td>\n",
       "      <td>0.775619</td>\n",
       "      <td>0.831751</td>\n",
       "      <td>0.782646</td>\n",
       "      <td>0.798207</td>\n",
       "      <td>...</td>\n",
       "      <td>0.712158</td>\n",
       "      <td>0.251135</td>\n",
       "      <td>-0.001092</td>\n",
       "      <td>0.237045</td>\n",
       "      <td>0.107211</td>\n",
       "      <td>0.071784</td>\n",
       "      <td>0.081386</td>\n",
       "      <td>0.042937</td>\n",
       "      <td>0.142180</td>\n",
       "      <td>0.140036</td>\n",
       "    </tr>\n",
       "    <tr>\n",
       "      <th>Coughing of Blood</th>\n",
       "      <td>0.049401</td>\n",
       "      <td>0.053006</td>\n",
       "      <td>-0.146505</td>\n",
       "      <td>0.607829</td>\n",
       "      <td>0.667612</td>\n",
       "      <td>0.625291</td>\n",
       "      <td>0.645947</td>\n",
       "      <td>0.632236</td>\n",
       "      <td>0.602987</td>\n",
       "      <td>0.745054</td>\n",
       "      <td>...</td>\n",
       "      <td>1.000000</td>\n",
       "      <td>0.481540</td>\n",
       "      <td>0.105857</td>\n",
       "      <td>0.318777</td>\n",
       "      <td>-0.085698</td>\n",
       "      <td>0.086289</td>\n",
       "      <td>-0.066443</td>\n",
       "      <td>0.244235</td>\n",
       "      <td>0.147659</td>\n",
       "      <td>0.087944</td>\n",
       "    </tr>\n",
       "    <tr>\n",
       "      <th>Fatigue</th>\n",
       "      <td>0.042346</td>\n",
       "      <td>0.095059</td>\n",
       "      <td>-0.116467</td>\n",
       "      <td>0.211724</td>\n",
       "      <td>0.237245</td>\n",
       "      <td>0.332472</td>\n",
       "      <td>0.267844</td>\n",
       "      <td>0.230530</td>\n",
       "      <td>0.247697</td>\n",
       "      <td>0.400678</td>\n",
       "      <td>...</td>\n",
       "      <td>0.481540</td>\n",
       "      <td>1.000000</td>\n",
       "      <td>0.469517</td>\n",
       "      <td>0.398625</td>\n",
       "      <td>0.174477</td>\n",
       "      <td>0.149562</td>\n",
       "      <td>0.040694</td>\n",
       "      <td>0.407915</td>\n",
       "      <td>0.271167</td>\n",
       "      <td>0.231748</td>\n",
       "    </tr>\n",
       "    <tr>\n",
       "      <th>Weight Loss</th>\n",
       "      <td>0.026393</td>\n",
       "      <td>0.106946</td>\n",
       "      <td>-0.057993</td>\n",
       "      <td>0.258016</td>\n",
       "      <td>0.207851</td>\n",
       "      <td>0.321756</td>\n",
       "      <td>0.176226</td>\n",
       "      <td>0.271743</td>\n",
       "      <td>0.104080</td>\n",
       "      <td>-0.006544</td>\n",
       "      <td>...</td>\n",
       "      <td>0.105857</td>\n",
       "      <td>0.469517</td>\n",
       "      <td>1.000000</td>\n",
       "      <td>0.574497</td>\n",
       "      <td>0.331179</td>\n",
       "      <td>0.053384</td>\n",
       "      <td>0.376484</td>\n",
       "      <td>0.160348</td>\n",
       "      <td>0.188598</td>\n",
       "      <td>-0.189106</td>\n",
       "    </tr>\n",
       "    <tr>\n",
       "      <th>Shortness of Breath</th>\n",
       "      <td>0.027950</td>\n",
       "      <td>0.035329</td>\n",
       "      <td>-0.045972</td>\n",
       "      <td>0.269558</td>\n",
       "      <td>0.435785</td>\n",
       "      <td>0.518682</td>\n",
       "      <td>0.366482</td>\n",
       "      <td>0.458200</td>\n",
       "      <td>0.182426</td>\n",
       "      <td>0.343623</td>\n",
       "      <td>...</td>\n",
       "      <td>0.318777</td>\n",
       "      <td>0.398625</td>\n",
       "      <td>0.574497</td>\n",
       "      <td>1.000000</td>\n",
       "      <td>0.207564</td>\n",
       "      <td>-0.200477</td>\n",
       "      <td>0.474275</td>\n",
       "      <td>0.351489</td>\n",
       "      <td>0.493331</td>\n",
       "      <td>-0.159291</td>\n",
       "    </tr>\n",
       "    <tr>\n",
       "      <th>Wheezing</th>\n",
       "      <td>0.015078</td>\n",
       "      <td>-0.095354</td>\n",
       "      <td>-0.076304</td>\n",
       "      <td>0.055368</td>\n",
       "      <td>0.180817</td>\n",
       "      <td>0.304850</td>\n",
       "      <td>0.178925</td>\n",
       "      <td>0.204973</td>\n",
       "      <td>0.057214</td>\n",
       "      <td>0.063930</td>\n",
       "      <td>...</td>\n",
       "      <td>-0.085698</td>\n",
       "      <td>0.174477</td>\n",
       "      <td>0.331179</td>\n",
       "      <td>0.207564</td>\n",
       "      <td>1.000000</td>\n",
       "      <td>0.393487</td>\n",
       "      <td>0.338271</td>\n",
       "      <td>0.098855</td>\n",
       "      <td>0.054388</td>\n",
       "      <td>0.116183</td>\n",
       "    </tr>\n",
       "    <tr>\n",
       "      <th>Swallowing Difficulty</th>\n",
       "      <td>0.005573</td>\n",
       "      <td>-0.105833</td>\n",
       "      <td>-0.058324</td>\n",
       "      <td>-0.080918</td>\n",
       "      <td>-0.114073</td>\n",
       "      <td>0.031141</td>\n",
       "      <td>-0.002853</td>\n",
       "      <td>-0.062948</td>\n",
       "      <td>0.007279</td>\n",
       "      <td>0.046807</td>\n",
       "      <td>...</td>\n",
       "      <td>0.086289</td>\n",
       "      <td>0.149562</td>\n",
       "      <td>0.053384</td>\n",
       "      <td>-0.200477</td>\n",
       "      <td>0.393487</td>\n",
       "      <td>1.000000</td>\n",
       "      <td>-0.119741</td>\n",
       "      <td>0.132363</td>\n",
       "      <td>-0.055428</td>\n",
       "      <td>0.210540</td>\n",
       "    </tr>\n",
       "    <tr>\n",
       "      <th>Clubbing of Finger Nails</th>\n",
       "      <td>0.015706</td>\n",
       "      <td>0.039258</td>\n",
       "      <td>-0.034219</td>\n",
       "      <td>0.241065</td>\n",
       "      <td>0.414992</td>\n",
       "      <td>0.345714</td>\n",
       "      <td>0.366447</td>\n",
       "      <td>0.357815</td>\n",
       "      <td>0.298023</td>\n",
       "      <td>0.041967</td>\n",
       "      <td>...</td>\n",
       "      <td>-0.066443</td>\n",
       "      <td>0.040694</td>\n",
       "      <td>0.376484</td>\n",
       "      <td>0.474275</td>\n",
       "      <td>0.338271</td>\n",
       "      <td>-0.119741</td>\n",
       "      <td>1.000000</td>\n",
       "      <td>0.242529</td>\n",
       "      <td>0.307271</td>\n",
       "      <td>-0.017537</td>\n",
       "    </tr>\n",
       "    <tr>\n",
       "      <th>Frequent Cold</th>\n",
       "      <td>0.045687</td>\n",
       "      <td>-0.012706</td>\n",
       "      <td>-0.000526</td>\n",
       "      <td>0.174539</td>\n",
       "      <td>0.180778</td>\n",
       "      <td>0.219389</td>\n",
       "      <td>0.077166</td>\n",
       "      <td>0.087092</td>\n",
       "      <td>0.028759</td>\n",
       "      <td>0.263931</td>\n",
       "      <td>...</td>\n",
       "      <td>0.244235</td>\n",
       "      <td>0.407915</td>\n",
       "      <td>0.160348</td>\n",
       "      <td>0.351489</td>\n",
       "      <td>0.098855</td>\n",
       "      <td>0.132363</td>\n",
       "      <td>0.242529</td>\n",
       "      <td>1.000000</td>\n",
       "      <td>0.515918</td>\n",
       "      <td>0.335844</td>\n",
       "    </tr>\n",
       "    <tr>\n",
       "      <th>Dry Cough</th>\n",
       "      <td>0.003793</td>\n",
       "      <td>0.012128</td>\n",
       "      <td>-0.123001</td>\n",
       "      <td>0.261489</td>\n",
       "      <td>0.211277</td>\n",
       "      <td>0.300195</td>\n",
       "      <td>0.159887</td>\n",
       "      <td>0.194399</td>\n",
       "      <td>0.114161</td>\n",
       "      <td>0.331995</td>\n",
       "      <td>...</td>\n",
       "      <td>0.147659</td>\n",
       "      <td>0.271167</td>\n",
       "      <td>0.188598</td>\n",
       "      <td>0.493331</td>\n",
       "      <td>0.054388</td>\n",
       "      <td>-0.055428</td>\n",
       "      <td>0.307271</td>\n",
       "      <td>0.515918</td>\n",
       "      <td>1.000000</td>\n",
       "      <td>0.176146</td>\n",
       "    </tr>\n",
       "    <tr>\n",
       "      <th>Snoring</th>\n",
       "      <td>-0.002957</td>\n",
       "      <td>-0.004700</td>\n",
       "      <td>-0.181618</td>\n",
       "      <td>-0.021343</td>\n",
       "      <td>0.122694</td>\n",
       "      <td>0.052844</td>\n",
       "      <td>0.022916</td>\n",
       "      <td>-0.056831</td>\n",
       "      <td>0.043375</td>\n",
       "      <td>0.152677</td>\n",
       "      <td>...</td>\n",
       "      <td>0.087944</td>\n",
       "      <td>0.231748</td>\n",
       "      <td>-0.189106</td>\n",
       "      <td>-0.159291</td>\n",
       "      <td>0.116183</td>\n",
       "      <td>0.210540</td>\n",
       "      <td>-0.017537</td>\n",
       "      <td>0.335844</td>\n",
       "      <td>0.176146</td>\n",
       "      <td>1.000000</td>\n",
       "    </tr>\n",
       "  </tbody>\n",
       "</table>\n",
       "<p>24 rows × 24 columns</p>\n",
       "</div>"
      ],
      "text/plain": [
       "                             Index       Age    Gender  Air Pollution  \\\n",
       "Index                     1.000000  0.002674 -0.025739       0.053307   \n",
       "Age                       0.002674  1.000000 -0.202086       0.099494   \n",
       "Gender                   -0.025739 -0.202086  1.000000      -0.246912   \n",
       "Air Pollution             0.053307  0.099494 -0.246912       1.000000   \n",
       "Alcohol use               0.041374  0.151742 -0.227636       0.747293   \n",
       "Dust Allergy              0.037960  0.035202 -0.204312       0.637503   \n",
       "OccuPational Hazards      0.032355  0.062177 -0.192343       0.608924   \n",
       "Genetic Risk              0.030725  0.073151 -0.222727       0.705276   \n",
       "chronic Lung Disease      0.025177  0.128952 -0.205061       0.626701   \n",
       "Balanced Diet             0.030743  0.004863 -0.099741       0.524873   \n",
       "Obesity                   0.050584  0.034337 -0.123813       0.601468   \n",
       "Smoking                   0.018407  0.075333 -0.206924       0.481902   \n",
       "Passive Smoker            0.019517  0.004908 -0.184826       0.606764   \n",
       "Chest Pain                0.022210  0.012864 -0.218426       0.585734   \n",
       "Coughing of Blood         0.049401  0.053006 -0.146505       0.607829   \n",
       "Fatigue                   0.042346  0.095059 -0.116467       0.211724   \n",
       "Weight Loss               0.026393  0.106946 -0.057993       0.258016   \n",
       "Shortness of Breath       0.027950  0.035329 -0.045972       0.269558   \n",
       "Wheezing                  0.015078 -0.095354 -0.076304       0.055368   \n",
       "Swallowing Difficulty     0.005573 -0.105833 -0.058324      -0.080918   \n",
       "Clubbing of Finger Nails  0.015706  0.039258 -0.034219       0.241065   \n",
       "Frequent Cold             0.045687 -0.012706 -0.000526       0.174539   \n",
       "Dry Cough                 0.003793  0.012128 -0.123001       0.261489   \n",
       "Snoring                  -0.002957 -0.004700 -0.181618      -0.021343   \n",
       "\n",
       "                          Alcohol use  Dust Allergy  OccuPational Hazards  \\\n",
       "Index                        0.041374      0.037960              0.032355   \n",
       "Age                          0.151742      0.035202              0.062177   \n",
       "Gender                      -0.227636     -0.204312             -0.192343   \n",
       "Air Pollution                0.747293      0.637503              0.608924   \n",
       "Alcohol use                  1.000000      0.818644              0.878786   \n",
       "Dust Allergy                 0.818644      1.000000              0.835860   \n",
       "OccuPational Hazards         0.878786      0.835860              1.000000   \n",
       "Genetic Risk                 0.877210      0.787904              0.893049   \n",
       "chronic Lung Disease         0.763576      0.619556              0.858284   \n",
       "Balanced Diet                0.653352      0.647197              0.691509   \n",
       "Obesity                      0.669312      0.700676              0.722191   \n",
       "Smoking                      0.547035      0.358691              0.497693   \n",
       "Passive Smoker               0.592576      0.560002              0.555311   \n",
       "Chest Pain                   0.717242      0.639983              0.775619   \n",
       "Coughing of Blood            0.667612      0.625291              0.645947   \n",
       "Fatigue                      0.237245      0.332472              0.267844   \n",
       "Weight Loss                  0.207851      0.321756              0.176226   \n",
       "Shortness of Breath          0.435785      0.518682              0.366482   \n",
       "Wheezing                     0.180817      0.304850              0.178925   \n",
       "Swallowing Difficulty       -0.114073      0.031141             -0.002853   \n",
       "Clubbing of Finger Nails     0.414992      0.345714              0.366447   \n",
       "Frequent Cold                0.180778      0.219389              0.077166   \n",
       "Dry Cough                    0.211277      0.300195              0.159887   \n",
       "Snoring                      0.122694      0.052844              0.022916   \n",
       "\n",
       "                          Genetic Risk  chronic Lung Disease  Balanced Diet  \\\n",
       "Index                         0.030725              0.025177       0.030743   \n",
       "Age                           0.073151              0.128952       0.004863   \n",
       "Gender                       -0.222727             -0.205061      -0.099741   \n",
       "Air Pollution                 0.705276              0.626701       0.524873   \n",
       "Alcohol use                   0.877210              0.763576       0.653352   \n",
       "Dust Allergy                  0.787904              0.619556       0.647197   \n",
       "OccuPational Hazards          0.893049              0.858284       0.691509   \n",
       "Genetic Risk                  1.000000              0.836231       0.679905   \n",
       "chronic Lung Disease          0.836231              1.000000       0.622632   \n",
       "Balanced Diet                 0.679905              0.622632       1.000000   \n",
       "Obesity                       0.729826              0.601754       0.706922   \n",
       "Smoking                       0.543259              0.578585       0.645390   \n",
       "Passive Smoker                0.609071              0.572698       0.725123   \n",
       "Chest Pain                    0.831751              0.782646       0.798207   \n",
       "Coughing of Blood             0.632236              0.602987       0.745054   \n",
       "Fatigue                       0.230530              0.247697       0.400678   \n",
       "Weight Loss                   0.271743              0.104080      -0.006544   \n",
       "Shortness of Breath           0.458200              0.182426       0.343623   \n",
       "Wheezing                      0.204973              0.057214       0.063930   \n",
       "Swallowing Difficulty        -0.062948              0.007279       0.046807   \n",
       "Clubbing of Finger Nails      0.357815              0.298023       0.041967   \n",
       "Frequent Cold                 0.087092              0.028759       0.263931   \n",
       "Dry Cough                     0.194399              0.114161       0.331995   \n",
       "Snoring                      -0.056831              0.043375       0.152677   \n",
       "\n",
       "                          ...  Coughing of Blood   Fatigue  Weight Loss  \\\n",
       "Index                     ...           0.049401  0.042346     0.026393   \n",
       "Age                       ...           0.053006  0.095059     0.106946   \n",
       "Gender                    ...          -0.146505 -0.116467    -0.057993   \n",
       "Air Pollution             ...           0.607829  0.211724     0.258016   \n",
       "Alcohol use               ...           0.667612  0.237245     0.207851   \n",
       "Dust Allergy              ...           0.625291  0.332472     0.321756   \n",
       "OccuPational Hazards      ...           0.645947  0.267844     0.176226   \n",
       "Genetic Risk              ...           0.632236  0.230530     0.271743   \n",
       "chronic Lung Disease      ...           0.602987  0.247697     0.104080   \n",
       "Balanced Diet             ...           0.745054  0.400678    -0.006544   \n",
       "Obesity                   ...           0.814805  0.552788     0.313495   \n",
       "Smoking                   ...           0.555289  0.200029    -0.212937   \n",
       "Passive Smoker            ...           0.636223  0.377919     0.058336   \n",
       "Chest Pain                ...           0.712158  0.251135    -0.001092   \n",
       "Coughing of Blood         ...           1.000000  0.481540     0.105857   \n",
       "Fatigue                   ...           0.481540  1.000000     0.469517   \n",
       "Weight Loss               ...           0.105857  0.469517     1.000000   \n",
       "Shortness of Breath       ...           0.318777  0.398625     0.574497   \n",
       "Wheezing                  ...          -0.085698  0.174477     0.331179   \n",
       "Swallowing Difficulty     ...           0.086289  0.149562     0.053384   \n",
       "Clubbing of Finger Nails  ...          -0.066443  0.040694     0.376484   \n",
       "Frequent Cold             ...           0.244235  0.407915     0.160348   \n",
       "Dry Cough                 ...           0.147659  0.271167     0.188598   \n",
       "Snoring                   ...           0.087944  0.231748    -0.189106   \n",
       "\n",
       "                          Shortness of Breath  Wheezing  \\\n",
       "Index                                0.027950  0.015078   \n",
       "Age                                  0.035329 -0.095354   \n",
       "Gender                              -0.045972 -0.076304   \n",
       "Air Pollution                        0.269558  0.055368   \n",
       "Alcohol use                          0.435785  0.180817   \n",
       "Dust Allergy                         0.518682  0.304850   \n",
       "OccuPational Hazards                 0.366482  0.178925   \n",
       "Genetic Risk                         0.458200  0.204973   \n",
       "chronic Lung Disease                 0.182426  0.057214   \n",
       "Balanced Diet                        0.343623  0.063930   \n",
       "Obesity                              0.406203  0.094287   \n",
       "Smoking                             -0.023259 -0.047060   \n",
       "Passive Smoker                       0.062948  0.200283   \n",
       "Chest Pain                           0.237045  0.107211   \n",
       "Coughing of Blood                    0.318777 -0.085698   \n",
       "Fatigue                              0.398625  0.174477   \n",
       "Weight Loss                          0.574497  0.331179   \n",
       "Shortness of Breath                  1.000000  0.207564   \n",
       "Wheezing                             0.207564  1.000000   \n",
       "Swallowing Difficulty               -0.200477  0.393487   \n",
       "Clubbing of Finger Nails             0.474275  0.338271   \n",
       "Frequent Cold                        0.351489  0.098855   \n",
       "Dry Cough                            0.493331  0.054388   \n",
       "Snoring                             -0.159291  0.116183   \n",
       "\n",
       "                          Swallowing Difficulty  Clubbing of Finger Nails  \\\n",
       "Index                                  0.005573                  0.015706   \n",
       "Age                                   -0.105833                  0.039258   \n",
       "Gender                                -0.058324                 -0.034219   \n",
       "Air Pollution                         -0.080918                  0.241065   \n",
       "Alcohol use                           -0.114073                  0.414992   \n",
       "Dust Allergy                           0.031141                  0.345714   \n",
       "OccuPational Hazards                  -0.002853                  0.366447   \n",
       "Genetic Risk                          -0.062948                  0.357815   \n",
       "chronic Lung Disease                   0.007279                  0.298023   \n",
       "Balanced Diet                          0.046807                  0.041967   \n",
       "Obesity                                0.127213                  0.149093   \n",
       "Smoking                                0.236141                 -0.041147   \n",
       "Passive Smoker                         0.348922                 -0.035536   \n",
       "Chest Pain                             0.071784                  0.081386   \n",
       "Coughing of Blood                      0.086289                 -0.066443   \n",
       "Fatigue                                0.149562                  0.040694   \n",
       "Weight Loss                            0.053384                  0.376484   \n",
       "Shortness of Breath                   -0.200477                  0.474275   \n",
       "Wheezing                               0.393487                  0.338271   \n",
       "Swallowing Difficulty                  1.000000                 -0.119741   \n",
       "Clubbing of Finger Nails              -0.119741                  1.000000   \n",
       "Frequent Cold                          0.132363                  0.242529   \n",
       "Dry Cough                             -0.055428                  0.307271   \n",
       "Snoring                                0.210540                 -0.017537   \n",
       "\n",
       "                          Frequent Cold  Dry Cough   Snoring  \n",
       "Index                          0.045687   0.003793 -0.002957  \n",
       "Age                           -0.012706   0.012128 -0.004700  \n",
       "Gender                        -0.000526  -0.123001 -0.181618  \n",
       "Air Pollution                  0.174539   0.261489 -0.021343  \n",
       "Alcohol use                    0.180778   0.211277  0.122694  \n",
       "Dust Allergy                   0.219389   0.300195  0.052844  \n",
       "OccuPational Hazards           0.077166   0.159887  0.022916  \n",
       "Genetic Risk                   0.087092   0.194399 -0.056831  \n",
       "chronic Lung Disease           0.028759   0.114161  0.043375  \n",
       "Balanced Diet                  0.263931   0.331995  0.152677  \n",
       "Obesity                        0.288368   0.200618  0.039422  \n",
       "Smoking                        0.039585   0.010101  0.189055  \n",
       "Passive Smoker                 0.104553   0.120761  0.247943  \n",
       "Chest Pain                     0.042937   0.142180  0.140036  \n",
       "Coughing of Blood              0.244235   0.147659  0.087944  \n",
       "Fatigue                        0.407915   0.271167  0.231748  \n",
       "Weight Loss                    0.160348   0.188598 -0.189106  \n",
       "Shortness of Breath            0.351489   0.493331 -0.159291  \n",
       "Wheezing                       0.098855   0.054388  0.116183  \n",
       "Swallowing Difficulty          0.132363  -0.055428  0.210540  \n",
       "Clubbing of Finger Nails       0.242529   0.307271 -0.017537  \n",
       "Frequent Cold                  1.000000   0.515918  0.335844  \n",
       "Dry Cough                      0.515918   1.000000  0.176146  \n",
       "Snoring                        0.335844   0.176146  1.000000  \n",
       "\n",
       "[24 rows x 24 columns]"
      ]
     },
     "execution_count": 199,
     "metadata": {},
     "output_type": "execute_result"
    }
   ],
   "source": [
    "# to find the pairs in Bivariate Analysis, we have to use following step.\n",
    "# Step 1: Find the correlation\n",
    "df_num.corr()"
   ]
  },
  {
   "cell_type": "code",
   "execution_count": 201,
   "id": "2b77c56f-30fa-4b63-b78f-9ab05c018f42",
   "metadata": {},
   "outputs": [],
   "source": [
    "# pairs for Bivariate Analysis\n",
    "# (Balanced Diet,Coughing of Blood)\n",
    "# (Alcohol use,Chest Pain)\n",
    "# (OccuPational Hazards,Chest Pain)\n",
    "# (chronic Lung Disease,Chest Pain)\n",
    "# (Balanced Diet,Chest Pain)\n",
    "# (Coughing of Blood,Chest Pain)\n",
    "# (Dust Allergy,Obesity)\n",
    "# (OccuPational Hazards,Dust Allergy)\n",
    "# (Genetic Risk,Dust Allergy)\n",
    "# (Balanced Diet,Dust Allergy)\n",
    "# (Airpollution,Generic Risk)\n",
    "# (Alcohol use,Generic Risk)\n",
    "# (Dust Allergy,Genetic Risk)\n",
    "# (Occupational Hazards,Dust Allergy)\n",
    "# (Alcohol use,Occupational Hazards)\n",
    "# (Dust Allergy,Occupational Hazards)\n",
    "# (Alcohol use,Dust Allergy)\n",
    "# (Air pollution,Alcohol use)"
   ]
  },
  {
   "cell_type": "markdown",
   "id": "79012755-924a-4a8c-919f-5ceff99a37af",
   "metadata": {},
   "source": [
    "### Balanced Diet,Coughing of Blood"
   ]
  },
  {
   "cell_type": "code",
   "execution_count": 204,
   "id": "2437a342-d9d7-4cff-928f-d373cb191c19",
   "metadata": {},
   "outputs": [
    {
     "data": {
      "image/png": "[encoded data removed]",
      "text/plain": [
       "<Figure size 640x480 with 1 Axes>"
      ]
     },
     "metadata": {},
     "output_type": "display_data"
    }
   ],
   "source": [
    "sns.scatterplot(x='Balanced Diet',y='Coughing of Blood',data=df_num,color='red')\n",
    "plt.title('scatter plot between Balanced Diet and Coughing of Blood')\n",
    "plt.show()"
   ]
  },
  {
   "cell_type": "markdown",
   "id": "33c729dd-e4a1-429d-9f0c-95ef34d457ad",
   "metadata": {},
   "source": [
    "**Interpritation**\n",
    "- Its not showe correlation"
   ]
  },
  {
   "cell_type": "markdown",
   "id": "3f7b3033-2e93-4f54-8255-6ee5ad786285",
   "metadata": {},
   "source": [
    "### Alcohol use,Chest Pain"
   ]
  },
  {
   "cell_type": "code",
   "execution_count": 208,
   "id": "50d80ca5-5651-40dd-a303-e2b04e8a6d93",
   "metadata": {},
   "outputs": [
    {
     "data": {
      "image/png": "[encoded data removed]",
      "text/plain": [
       "<Figure size 640x480 with 1 Axes>"
      ]
     },
     "metadata": {},
     "output_type": "display_data"
    }
   ],
   "source": [
    "sns.scatterplot(x='Alcohol use' , y='Chest Pain',data=df_num, color='purple')\n",
    "plt.title('scatter plot between Alcohol use and Chest Pain')\n",
    "plt.show()"
   ]
  },
  {
   "cell_type": "markdown",
   "id": "d0367a3b-294c-4b43-893c-b14aeb5f5298",
   "metadata": {},
   "source": [
    "**Interpritation**\n",
    "- Its not showe correlation"
   ]
  },
  {
   "cell_type": "markdown",
   "id": "7f52cde6-9bf0-424f-8fec-46e6523ac2b1",
   "metadata": {},
   "source": [
    "### OccuPational Hazards,Chest Pain"
   ]
  },
  {
   "cell_type": "code",
   "execution_count": 59,
   "id": "2d45070e-444c-414d-82c4-435df5beeef0",
   "metadata": {},
   "outputs": [
    {
     "data": {
      "image/png": "[encoded data removed]",
      "text/plain": [
       "<Figure size 640x480 with 1 Axes>"
      ]
     },
     "metadata": {},
     "output_type": "display_data"
    }
   ],
   "source": [
    "sns.scatterplot(x='OccuPational Hazards' , y='Chest Pain',data=df_num, color='purple')\n",
    "plt.title('scatter plot between OccuPational Hazards and Chest Pain')\n",
    "plt.show()"
   ]
  },
  {
   "cell_type": "markdown",
   "id": "fdeb6c98-4b49-4823-91b3-f453d90196f3",
   "metadata": {},
   "source": [
    "**Interpretation**\n",
    "- it shows positively correlation \n",
    "- Wen chest pain increased occupational Hazards increased\n"
   ]
  },
  {
   "cell_type": "markdown",
   "id": "783dc638-df46-42e5-9432-c5d78517c12a",
   "metadata": {},
   "source": [
    "### chronic Lung Disease,Chest Pain"
   ]
  },
  {
   "cell_type": "code",
   "execution_count": 62,
   "id": "c6396746-031d-417a-8607-30c538084301",
   "metadata": {},
   "outputs": [
    {
     "data": {
      "image/png": "[encoded data removed]",
      "text/plain": [
       "<Figure size 640x480 with 1 Axes>"
      ]
     },
     "metadata": {},
     "output_type": "display_data"
    }
   ],
   "source": [
    "sns.scatterplot(x='chronic Lung Disease' , y='Chest Pain',data=df_num, color='purple')\n",
    "plt.title('scatter plot between chronic Lung Disease and Chest Pain')\n",
    "plt.show()"
   ]
  },
  {
   "cell_type": "markdown",
   "id": "1b27aade-3e36-4c20-9761-83ea9ab6a965",
   "metadata": {},
   "source": [
    "**Interpretation**\n",
    "- it shows no correlation"
   ]
  },
  {
   "cell_type": "markdown",
   "id": "69c7140f-4c6f-4a7e-9d11-7825ec0fbce2",
   "metadata": {},
   "source": [
    "### Balanced Diet,Chest Pain"
   ]
  },
  {
   "cell_type": "code",
   "execution_count": 65,
   "id": "1d3772b6-f502-4482-930f-0d55a2ade0b8",
   "metadata": {},
   "outputs": [
    {
     "data": {
      "image/png": "[encoded data removed]",
      "text/plain": [
       "<Figure size 640x480 with 1 Axes>"
      ]
     },
     "metadata": {},
     "output_type": "display_data"
    }
   ],
   "source": [
    "sns.scatterplot(x='Balanced Diet' , y='Chest Pain',data=df_num, color='purple')\n",
    "plt.title('scatter plot between Balanced Diet and Chest Pain')\n",
    "plt.show()"
   ]
  },
  {
   "cell_type": "markdown",
   "id": "feed2087-de4c-4621-a1f5-7df5a83c931f",
   "metadata": {},
   "source": [
    "**Interpretaion**\n",
    "- Its show no correlation"
   ]
  },
  {
   "cell_type": "markdown",
   "id": "e944fde4-22e8-4d39-91df-e486fd843eb5",
   "metadata": {},
   "source": [
    "### Coughing of Blood,Chest Pain"
   ]
  },
  {
   "cell_type": "code",
   "execution_count": 68,
   "id": "2a3d476e-3948-4ccd-9d88-07de8020ce46",
   "metadata": {},
   "outputs": [
    {
     "data": {
      "image/png": "[encoded data removed]",
      "text/plain": [
       "<Figure size 640x480 with 1 Axes>"
      ]
     },
     "metadata": {},
     "output_type": "display_data"
    }
   ],
   "source": [
    "sns.scatterplot(x='Coughing of Blood' , y='Chest Pain',data=df_num, color='purple')\n",
    "plt.title('scatter plot between Coughing of Chest Pain')\n",
    "plt.show()"
   ]
  },
  {
   "cell_type": "markdown",
   "id": "570162c8-3b4b-4944-8d27-345b59aa1c45",
   "metadata": {},
   "source": [
    "**Interpretation** \n",
    "- it shows positively correlation\n",
    "- When Chest pain increase Coughing of Blood increase "
   ]
  },
  {
   "cell_type": "markdown",
   "id": "00ba123e-f18e-49f2-a56d-05c54f9134a6",
   "metadata": {},
   "source": [
    "### Dust Allergy,Obesity"
   ]
  },
  {
   "cell_type": "code",
   "execution_count": 71,
   "id": "9d7c0113-9be1-4fa9-b6ae-38d6ccb9004d",
   "metadata": {},
   "outputs": [
    {
     "data": {
      "image/png": "[encoded data removed]",
      "text/plain": [
       "<Figure size 640x480 with 1 Axes>"
      ]
     },
     "metadata": {},
     "output_type": "display_data"
    }
   ],
   "source": [
    "sns.scatterplot(x='Dust Allergy' , y='Obesity',data=df_num, color='purple')\n",
    "plt.title('scatter plot between Dust Allergy and Obesity')\n",
    "plt.show()"
   ]
  },
  {
   "cell_type": "markdown",
   "id": "0df01933-6685-4633-97df-304454fecdfa",
   "metadata": {},
   "source": [
    "**Interpritation**\n",
    "- Its Showe no correlation"
   ]
  },
  {
   "cell_type": "markdown",
   "id": "2a664b25-78b7-4941-8e4c-3613a765761d",
   "metadata": {},
   "source": [
    "### OccuPational Hazards,Dust Allergy"
   ]
  },
  {
   "cell_type": "code",
   "execution_count": 74,
   "id": "f0eb0b43-80bd-4447-8859-5692f8d320b8",
   "metadata": {},
   "outputs": [
    {
     "data": {
      "image/png": "[encoded data removed]",
      "text/plain": [
       "<Figure size 640x480 with 1 Axes>"
      ]
     },
     "metadata": {},
     "output_type": "display_data"
    }
   ],
   "source": [
    "sns.scatterplot(x='OccuPational Hazards' , y='Dust Allergy',data=df_num, color='purple')\n",
    "plt.title('scatter plot between OccuPational Hazards and Dust Allergy')\n",
    "plt.show()"
   ]
  },
  {
   "cell_type": "markdown",
   "id": "809f7036-9c8c-4bf6-a7db-80f158248f84",
   "metadata": {},
   "source": [
    "**Interpretaion**\n",
    "- It shows positively correlated \n",
    "- When Dusty Allergy increased Occupational Hazards increased"
   ]
  },
  {
   "cell_type": "markdown",
   "id": "053fcc6c-e9d8-4b36-811c-7f2f602dc0d7",
   "metadata": {},
   "source": [
    "### Genetic Risk,Dust Allergy"
   ]
  },
  {
   "cell_type": "code",
   "execution_count": 77,
   "id": "bc1909fb-7f1d-4f19-b6f7-91ce201d208e",
   "metadata": {},
   "outputs": [
    {
     "data": {
      "image/png": "[encoded data removed]",
      "text/plain": [
       "<Figure size 640x480 with 1 Axes>"
      ]
     },
     "metadata": {},
     "output_type": "display_data"
    }
   ],
   "source": [
    "sns.scatterplot(x='Genetic Risk',y='Dust Allergy',data=df_num, color='purple')\n",
    "plt.title('scatter plot between Genetic Risk and Dust Allergy')\n",
    "plt.show()"
   ]
  },
  {
   "cell_type": "markdown",
   "id": "f5adb749-d4a7-4d63-bf75-d6b9bb79d735",
   "metadata": {},
   "source": [
    "\n",
    "**Interpretaion**\n",
    "- it is Shows positively correlation\n",
    "- When is Dust Allergy increased Genetic Risk increased"
   ]
  },
  {
   "cell_type": "markdown",
   "id": "bafd8326-15b2-43b7-8b3a-b1c0005b8f36",
   "metadata": {},
   "source": [
    "### Balanced Diet,Dust Allergy"
   ]
  },
  {
   "cell_type": "code",
   "execution_count": 80,
   "id": "de8632c6-2572-4d6f-8130-cb714b90315f",
   "metadata": {},
   "outputs": [
    {
     "data": {
      "image/png": "[encoded data removed]",
      "text/plain": [
       "<Figure size 640x480 with 1 Axes>"
      ]
     },
     "metadata": {},
     "output_type": "display_data"
    }
   ],
   "source": [
    "sns.scatterplot(x='Balanced Diet',y='Dust Allergy',data=df_num, color='purple')\n",
    "plt.title('scatter plot between Balanced Diet and Dust Allergy')\n",
    "plt.show()"
   ]
  },
  {
   "cell_type": "markdown",
   "id": "d08ccabc-fdba-48bc-b045-3f53dccdb425",
   "metadata": {},
   "source": [
    "**Interpretaion**\n",
    "- its show no correlation"
   ]
  },
  {
   "cell_type": "markdown",
   "id": "ea0020db-03ac-48b4-88f0-cca817ce2ea8",
   "metadata": {},
   "source": [
    "### Airpollution,Generic Risk"
   ]
  },
  {
   "cell_type": "code",
   "execution_count": 83,
   "id": "f60af193-8239-4fe0-94a6-5b612103c202",
   "metadata": {},
   "outputs": [
    {
     "data": {
      "image/png": "[encoded data removed]",
      "text/plain": [
       "<Figure size 640x480 with 1 Axes>"
      ]
     },
     "metadata": {},
     "output_type": "display_data"
    }
   ],
   "source": [
    "sns.scatterplot(x='Air Pollution',y='Genetic Risk',data=df_num, color='purple')\n",
    "plt.title('scatter plot between Air pollution and Genetic Risk')\n",
    "plt.show()"
   ]
  },
  {
   "cell_type": "markdown",
   "id": "92c25bd9-2121-43a2-aa79-637308f8d589",
   "metadata": {},
   "source": [
    "**Interpretation**\n",
    "- its showe no correlation"
   ]
  },
  {
   "cell_type": "markdown",
   "id": "ab02f597-9c3b-4c82-98fd-260eca99f405",
   "metadata": {},
   "source": [
    "### Alcohol use,Generic Risk"
   ]
  },
  {
   "cell_type": "code",
   "execution_count": 86,
   "id": "aa10eeb2-de4b-4f19-81f9-602282995985",
   "metadata": {},
   "outputs": [
    {
     "data": {
      "image/png": "[encoded data removed]",
      "text/plain": [
       "<Figure size 640x480 with 1 Axes>"
      ]
     },
     "metadata": {},
     "output_type": "display_data"
    }
   ],
   "source": [
    "sns.scatterplot(x='Alcohol use',y='Genetic Risk',data=df_num, color='purple')\n",
    "plt.title('scatter plot between Alcohol use and Genetic Risk')\n",
    "plt.show()"
   ]
  },
  {
   "cell_type": "markdown",
   "id": "f41b0df0-d397-4773-8892-ec3097e70090",
   "metadata": {},
   "source": [
    "### Interpretation \n",
    "- it Showe No correlation "
   ]
  },
  {
   "cell_type": "markdown",
   "id": "f9fe2975-da3d-4c16-85cd-845385189dcf",
   "metadata": {},
   "source": [
    "### Dust Allergy,Genetic Risk"
   ]
  },
  {
   "cell_type": "code",
   "execution_count": 89,
   "id": "6d480292-ee78-4358-a154-3f14ee4a98b7",
   "metadata": {},
   "outputs": [
    {
     "data": {
      "image/png": "[encoded data removed]",
      "text/plain": [
       "<Figure size 640x480 with 1 Axes>"
      ]
     },
     "metadata": {},
     "output_type": "display_data"
    }
   ],
   "source": [
    "sns.scatterplot(x='Dust Allergy',y='Genetic Risk',data=df_num, color='purple')\n",
    "plt.title('scatter plot between Dust Allergy and Genetic Risk')\n",
    "plt.show()"
   ]
  },
  {
   "cell_type": "markdown",
   "id": "541c6146-e107-4f82-aa1b-21bf85229ed4",
   "metadata": {},
   "source": [
    "**Interpretation**\n",
    "- it Shows positively correlation\n",
    "- when Genetic Risk increase and Dusl allergy is increase\n"
   ]
  },
  {
   "cell_type": "markdown",
   "id": "7cbc7552-56e3-4f21-baa2-8b6c9867d5f5",
   "metadata": {},
   "source": [
    "### Occupational Hazards,Dust Allergy"
   ]
  },
  {
   "cell_type": "code",
   "execution_count": 92,
   "id": "c8dea43a-f760-4437-a3fb-2ef4bee00a91",
   "metadata": {},
   "outputs": [
    {
     "data": {
      "image/png": "[encoded data removed]",
      "text/plain": [
       "<Figure size 640x480 with 1 Axes>"
      ]
     },
     "metadata": {},
     "output_type": "display_data"
    }
   ],
   "source": [
    "sns.scatterplot(x='OccuPational Hazards' , y='Dust Allergy',data=df_num, color='purple')\n",
    "plt.title('scatter plot between Occupational Hazards and Dust Allergy')\n",
    "plt.show()"
   ]
  },
  {
   "cell_type": "markdown",
   "id": "776ad45c-c396-47df-924f-115822dfbaba",
   "metadata": {},
   "source": [
    "**Interpretation**\n",
    "- it shows positively correlation\n",
    "- When Dust Allergy increase Occupational Hazards increase"
   ]
  },
  {
   "cell_type": "markdown",
   "id": "1821774b-a511-4360-a990-15e1ff83f2d3",
   "metadata": {},
   "source": [
    "### Alcohol use,Occupational Hazards"
   ]
  },
  {
   "cell_type": "code",
   "execution_count": 95,
   "id": "206c0675-3030-4edb-badd-621de00d3414",
   "metadata": {},
   "outputs": [
    {
     "data": {
      "image/png": "[encoded data removed]",
      "text/plain": [
       "<Figure size 640x480 with 1 Axes>"
      ]
     },
     "metadata": {},
     "output_type": "display_data"
    }
   ],
   "source": [
    "sns.scatterplot(x='Alcohol use' , y='OccuPational Hazards',data=df_num, color='purple')\n",
    "plt.title('scatter plot between Alcohol use and OccuPational Hazards')\n",
    "plt.show()"
   ]
  },
  {
   "cell_type": "markdown",
   "id": "1c116b63-00c6-40e2-8aaf-a09560e3c808",
   "metadata": {},
   "source": [
    "**Interpretation**\n",
    "- its Showe no Corerelation"
   ]
  },
  {
   "cell_type": "markdown",
   "id": "93e016fa-21f8-40ae-b3c5-4acb03123faa",
   "metadata": {},
   "source": [
    "### Dust Allergy,Occupational Hazards"
   ]
  },
  {
   "cell_type": "code",
   "execution_count": 98,
   "id": "58aa0529-3a03-4ba5-9b9e-2dd8191a9e1c",
   "metadata": {},
   "outputs": [
    {
     "data": {
      "image/png": "[encoded data removed]",
      "text/plain": [
       "<Figure size 640x480 with 1 Axes>"
      ]
     },
     "metadata": {},
     "output_type": "display_data"
    }
   ],
   "source": [
    "sns.scatterplot(x='Dust Allergy', y='OccuPational Hazards',data=df_num, color='purple')\n",
    "plt.title('scatter plot between Dust Allergy and OccuPational Hazards')\n",
    "plt.show()"
   ]
  },
  {
   "cell_type": "markdown",
   "id": "2e092077-842a-46b8-9095-67ca6b162ac4",
   "metadata": {},
   "source": [
    "**Interpritation**\n",
    "- it Shows positively correlated\n",
    "- When Dust Allergy increased Occupational Hazards increased"
   ]
  },
  {
   "cell_type": "markdown",
   "id": "550a8781-0873-461f-a861-901f5de45516",
   "metadata": {},
   "source": [
    "### Alcohol use,Dust Allergy"
   ]
  },
  {
   "cell_type": "code",
   "execution_count": 101,
   "id": "5b1ce648-9a08-4ed0-af5c-60d7335c4967",
   "metadata": {},
   "outputs": [
    {
     "data": {
      "image/png": "[encoded data removed]",
      "text/plain": [
       "<Figure size 640x480 with 1 Axes>"
      ]
     },
     "metadata": {},
     "output_type": "display_data"
    }
   ],
   "source": [
    "sns.scatterplot(x='Alcohol use' , y='Dust Allergy',data=df_num, color='purple')\n",
    "plt.title('scatter plot between Alcohol use and Dust Allergy')\n",
    "plt.show()"
   ]
  },
  {
   "cell_type": "markdown",
   "id": "f5e8774a-5163-4967-9ab5-57567c80baea",
   "metadata": {},
   "source": [
    "**Interpretation**\n",
    "- it shows positively correlated \n",
    "- When Dust Allergy increased Alcohol use increased"
   ]
  },
  {
   "cell_type": "markdown",
   "id": "06f0a575-6a4b-4892-bba3-88d62254e153",
   "metadata": {},
   "source": [
    "### Air pollution,Alcohol use\n"
   ]
  },
  {
   "cell_type": "code",
   "execution_count": 104,
   "id": "d1b3c133-513c-4366-ac34-ecc547ce0afd",
   "metadata": {},
   "outputs": [
    {
     "data": {
      "image/png": "[encoded data removed]",
      "text/plain": [
       "<Figure size 640x480 with 1 Axes>"
      ]
     },
     "metadata": {},
     "output_type": "display_data"
    }
   ],
   "source": [
    "sns.scatterplot(x='Air Pollution' , y='Alcohol use',data=df_num, color='purple')\n",
    "plt.title('scatter plot between Air Pollution and Alcohol use')\n",
    "plt.show()"
   ]
  },
  {
   "cell_type": "markdown",
   "id": "0908b7e4-d1ea-4e75-a5b7-2625eaa781bf",
   "metadata": {},
   "source": [
    "**Interpritation**\n",
    "- its showe no correlation"
   ]
  },
  {
   "cell_type": "code",
   "execution_count": 106,
   "id": "872cf2f6-6ee9-4c35-8103-b9698ecff359",
   "metadata": {},
   "outputs": [],
   "source": [
    "# Find the pairs having strong positive or negative raltion\n",
    "# (OccuPational Hazards,Chest Pain)\n",
    "# (chronic Lung Disease\t,Chest Pain)\n",
    "# (Coughing of Blood,Chest Pain)\n",
    "# (Genetic Risk,Dust Allergy)\n",
    "# (Dust Allergy,Genetic Risk)"
   ]
  },
  {
   "cell_type": "code",
   "execution_count": 107,
   "id": "fb29465c-7da5-484d-9a56-07cf8780274e",
   "metadata": {},
   "outputs": [],
   "source": [
    "# Numrical variable with linear relationsheep \n",
    "# OccuPational Hazards,Chest Pain,chronic Lung Disease,Coughing of Blood,Genetic Risk,Dust Allergy,"
   ]
  },
  {
   "cell_type": "code",
   "execution_count": 108,
   "id": "19e84a49-806e-45a5-b1b1-c34cc0da053b",
   "metadata": {},
   "outputs": [
    {
     "data": {
      "text/plain": [
       "Index(['Level'], dtype='object')"
      ]
     },
     "execution_count": 108,
     "metadata": {},
     "output_type": "execute_result"
    }
   ],
   "source": [
    "df_cat.columns"
   ]
  },
  {
   "cell_type": "code",
   "execution_count": 109,
   "id": "0a4716a1-9299-446c-97b3-c214d962f766",
   "metadata": {},
   "outputs": [
    {
     "data": {
      "text/html": [
       "<div>\n",
       "<style scoped>\n",
       "    .dataframe tbody tr th:only-of-type {\n",
       "        vertical-align: middle;\n",
       "    }\n",
       "\n",
       "    .dataframe tbody tr th {\n",
       "        vertical-align: top;\n",
       "    }\n",
       "\n",
       "    .dataframe thead th {\n",
       "        text-align: right;\n",
       "    }\n",
       "</style>\n",
       "<table border=\"1\" class=\"dataframe\">\n",
       "  <thead>\n",
       "    <tr style=\"text-align: right;\">\n",
       "      <th></th>\n",
       "      <th>Level</th>\n",
       "    </tr>\n",
       "  </thead>\n",
       "  <tbody>\n",
       "    <tr>\n",
       "      <th>0</th>\n",
       "      <td>Low</td>\n",
       "    </tr>\n",
       "    <tr>\n",
       "      <th>1</th>\n",
       "      <td>Medium</td>\n",
       "    </tr>\n",
       "    <tr>\n",
       "      <th>2</th>\n",
       "      <td>High</td>\n",
       "    </tr>\n",
       "    <tr>\n",
       "      <th>3</th>\n",
       "      <td>High</td>\n",
       "    </tr>\n",
       "    <tr>\n",
       "      <th>4</th>\n",
       "      <td>High</td>\n",
       "    </tr>\n",
       "  </tbody>\n",
       "</table>\n",
       "</div>"
      ],
      "text/plain": [
       "    Level\n",
       "0     Low\n",
       "1  Medium\n",
       "2    High\n",
       "3    High\n",
       "4    High"
      ]
     },
     "execution_count": 109,
     "metadata": {},
     "output_type": "execute_result"
    }
   ],
   "source": [
    "df_cat.head()"
   ]
  },
  {
   "cell_type": "code",
   "execution_count": 220,
   "id": "5cc9e199-5576-40b8-b3d3-26f9296a9d3b",
   "metadata": {},
   "outputs": [],
   "source": [
    "# Level,OccuPational Hazards\n",
    "# Level,Chest Pain\n",
    "# Level,chronic Lung Disease\n",
    "# Level,Coughing of Blood\n",
    "# Level,Genetic Risk\n",
    "# Level,Dust Allergy"
   ]
  },
  {
   "cell_type": "markdown",
   "id": "3b93e618-395b-4722-bcb7-8c8a237cfbc6",
   "metadata": {},
   "source": [
    "### Level,OccuPational Hazards"
   ]
  },
  {
   "cell_type": "code",
   "execution_count": 225,
   "id": "458ac334-afca-492c-ad2c-a1257bba1f95",
   "metadata": {},
   "outputs": [
    {
     "data": {
      "text/plain": [
       "Level\n",
       "High      6.479452\n",
       "Low       3.000000\n",
       "Medium    4.716867\n",
       "Name: OccuPational Hazards, dtype: float64"
      ]
     },
     "execution_count": 225,
     "metadata": {},
     "output_type": "execute_result"
    }
   ],
   "source": [
    "df_Cancer_Patient.groupby('Level')['OccuPational Hazards'].mean()"
   ]
  },
  {
   "cell_type": "code",
   "execution_count": 227,
   "id": "38a8de8f-d93f-4abe-b162-fa1a7334b5b3",
   "metadata": {},
   "outputs": [
    {
     "data": {
      "image/png": "[encoded data removed]",
      "text/plain": [
       "<Figure size 640x480 with 1 Axes>"
      ]
     },
     "metadata": {},
     "output_type": "display_data"
    }
   ],
   "source": [
    "# visualize the graph\n",
    "sns.barplot(x='Level',y='OccuPational Hazards', data=df_Cancer_Patient,color='purple')\n",
    "plt.title('Level vs OccuPational Hazards')\n",
    "plt.grid()\n",
    "plt.show()\n"
   ]
  },
  {
   "cell_type": "markdown",
   "id": "8cffac79-0d0f-4f0c-ba91-5d4f7edcfce7",
   "metadata": {},
   "source": [
    "**Interpretation**\n",
    "- We have Occupational Hazards low level 3.000000\n",
    "- We have Occupational Hazards Medium level 4.716867\n",
    "- We have Occupational Hazards High level is 6.479452"
   ]
  },
  {
   "cell_type": "markdown",
   "id": "14311bf4-3b90-4dc0-b0c7-b019c3085cf3",
   "metadata": {},
   "source": [
    "### Level,Chest Pain"
   ]
  },
  {
   "cell_type": "code",
   "execution_count": 236,
   "id": "2da70451-aa10-447b-a53d-4f8de93259ed",
   "metadata": {},
   "outputs": [
    {
     "data": {
      "text/plain": [
       "Level\n",
       "High      6.391781\n",
       "Low       2.834983\n",
       "Medium    3.753012\n",
       "Name: Chest Pain, dtype: float64"
      ]
     },
     "execution_count": 236,
     "metadata": {},
     "output_type": "execute_result"
    }
   ],
   "source": [
    "df_Cancer_Patient.groupby('Level')['Chest Pain'].mean()"
   ]
  },
  {
   "cell_type": "code",
   "execution_count": 238,
   "id": "3a7698f3-409e-456b-9dbc-059061b0d6e0",
   "metadata": {},
   "outputs": [
    {
     "data": {
      "text/plain": [
       "<Axes: xlabel='Level'>"
      ]
     },
     "execution_count": 238,
     "metadata": {},
     "output_type": "execute_result"
    },
    {
     "data": {
      "image/png": "[encoded data removed]",
      "text/plain": [
       "<Figure size 640x480 with 1 Axes>"
      ]
     },
     "metadata": {},
     "output_type": "display_data"
    }
   ],
   "source": [
    "# visualize the graph\n",
    "df_Cancer_Patient.groupby('Level')['Chest Pain'].mean().plot(kind='bar')\n"
   ]
  },
  {
   "cell_type": "markdown",
   "id": "542ab018-a371-4039-ab0c-2ea43a5eaacc",
   "metadata": {},
   "source": [
    "**Interpretation**\n",
    "- we have chest pationt low level is 2.834983\n",
    "- we have chest pationt Medium level is 3.753012\n",
    "- we have chest pationt High level is 6.391781"
   ]
  },
  {
   "cell_type": "markdown",
   "id": "9c1f5c11-2ef6-4e9d-a319-fb996cc19db5",
   "metadata": {},
   "source": [
    "### Level,chronic Lung Disea"
   ]
  },
  {
   "cell_type": "code",
   "execution_count": 244,
   "id": "6887fa1c-1a0e-41b6-88f9-b0e880b4362e",
   "metadata": {},
   "outputs": [
    {
     "data": {
      "text/plain": [
       "Level\n",
       "High      5.827397\n",
       "Low       3.092409\n",
       "Medium    3.963855\n",
       "Name: chronic Lung Disease, dtype: float64"
      ]
     },
     "execution_count": 244,
     "metadata": {},
     "output_type": "execute_result"
    }
   ],
   "source": [
    "df_Cancer_Patient.groupby('Level')['chronic Lung Disease'].mean()"
   ]
  },
  {
   "cell_type": "code",
   "execution_count": 246,
   "id": "7379a356-485b-4dba-ac97-054fcd86dd5f",
   "metadata": {},
   "outputs": [
    {
     "data": {
      "text/plain": [
       "<Axes: xlabel='Level'>"
      ]
     },
     "execution_count": 246,
     "metadata": {},
     "output_type": "execute_result"
    },
    {
     "data": {
      "image/png": "[encoded data removed]",
      "text/plain": [
       "<Figure size 640x480 with 1 Axes>"
      ]
     },
     "metadata": {},
     "output_type": "display_data"
    }
   ],
   "source": [
    "# visualize the graph\n",
    "df_Cancer_Patient.groupby('Level')['chronic Lung Disease'].mean().plot(kind='bar')"
   ]
  },
  {
   "cell_type": "markdown",
   "id": "e599195b-d499-46d4-83b7-dcf4e3d0507c",
   "metadata": {},
   "source": [
    "**Interpretation**\n",
    "- we have chronic Lung Disease High level is 5.827397\n",
    "- we have chronic Lung Disease Medium level is 3.963855\n",
    "- we have chronic Lung Disease Low level is 3.092409"
   ]
  },
  {
   "cell_type": "markdown",
   "id": "42271ce3-4624-4950-aea9-b76769a9c916",
   "metadata": {},
   "source": [
    "### Level,Coughing of Blood"
   ]
  },
  {
   "cell_type": "code",
   "execution_count": 252,
   "id": "3ecdf371-15b6-425b-9f84-615d5a99ae0f",
   "metadata": {},
   "outputs": [
    {
     "data": {
      "text/plain": [
       "Level\n",
       "High      7.438356\n",
       "Low       2.861386\n",
       "Medium    3.846386\n",
       "Name: Coughing of Blood, dtype: float64"
      ]
     },
     "execution_count": 252,
     "metadata": {},
     "output_type": "execute_result"
    }
   ],
   "source": [
    "df_Cancer_Patient.groupby('Level')['Coughing of Blood'].mean()"
   ]
  },
  {
   "cell_type": "code",
   "execution_count": 254,
   "id": "44f3ecd0-29a7-4c4c-bcec-80977397eeba",
   "metadata": {},
   "outputs": [
    {
     "data": {
      "text/plain": [
       "<Axes: xlabel='Level'>"
      ]
     },
     "execution_count": 254,
     "metadata": {},
     "output_type": "execute_result"
    },
    {
     "data": {
      "image/png": "[encoded data removed]",
      "text/plain": [
       "<Figure size 640x480 with 1 Axes>"
      ]
     },
     "metadata": {},
     "output_type": "display_data"
    }
   ],
   "source": [
    "# visualize the graph\n",
    "df_Cancer_Patient.groupby('Level')['Coughing of Blood'].mean().plot(kind='bar')"
   ]
  },
  {
   "cell_type": "markdown",
   "id": "94b95485-b988-4008-a69f-a0c4a44bb072",
   "metadata": {},
   "source": [
    "**Interpretation**\n",
    "- we have Coughing of Blood High level is 7.438356\n",
    "- we have Coughing of Blood Medium level is 3.846386\n",
    "- we have Coughing of Blood Low level is 2.861386\n"
   ]
  },
  {
   "cell_type": "markdown",
   "id": "f0cac113-b777-4184-bf33-ccef141e78b2",
   "metadata": {},
   "source": [
    "### Level,Genetic Risk"
   ]
  },
  {
   "cell_type": "code",
   "execution_count": 260,
   "id": "d081a9c2-c979-460e-b686-40f97ef350d0",
   "metadata": {},
   "outputs": [
    {
     "data": {
      "text/plain": [
       "Level\n",
       "High      6.375342\n",
       "Low       2.732673\n",
       "Medium    4.292169\n",
       "Name: Genetic Risk, dtype: float64"
      ]
     },
     "execution_count": 260,
     "metadata": {},
     "output_type": "execute_result"
    }
   ],
   "source": [
    "df_Cancer_Patient.groupby('Level')['Genetic Risk'].mean()"
   ]
  },
  {
   "cell_type": "code",
   "execution_count": 262,
   "id": "f1e434db-9264-499a-b108-cdfe8cc16e32",
   "metadata": {},
   "outputs": [
    {
     "data": {
      "text/plain": [
       "<Axes: xlabel='Level'>"
      ]
     },
     "execution_count": 262,
     "metadata": {},
     "output_type": "execute_result"
    },
    {
     "data": {
      "image/png": "[encoded data removed]",
      "text/plain": [
       "<Figure size 640x480 with 1 Axes>"
      ]
     },
     "metadata": {},
     "output_type": "display_data"
    }
   ],
   "source": [
    "# visualize the graph\n",
    "df_Cancer_Patient.groupby('Level')['Genetic Risk'].mean().plot(kind='bar')"
   ]
  },
  {
   "cell_type": "markdown",
   "id": "f79e1fc3-18fe-4384-aa5f-b727672b1a05",
   "metadata": {},
   "source": [
    "**Intrpretation**\n",
    "- we have Genetic Risk High level is 6.375342\n",
    "- we have Genetic Risk Medium level is  4.292169\n",
    "- we have Genetic Risk Low level is 2.732673\n"
   ]
  },
  {
   "cell_type": "markdown",
   "id": "ea79a073-1afe-4b46-9243-012d71550295",
   "metadata": {},
   "source": [
    "### Level,Dust Allergy"
   ]
  },
  {
   "cell_type": "code",
   "execution_count": 266,
   "id": "3a02973a-4d41-4f18-bb62-60e46a1e3c2e",
   "metadata": {},
   "outputs": [
    {
     "data": {
      "text/plain": [
       "Level\n",
       "High      6.616438\n",
       "Low       3.112211\n",
       "Medium    5.442771\n",
       "Name: Dust Allergy, dtype: float64"
      ]
     },
     "execution_count": 266,
     "metadata": {},
     "output_type": "execute_result"
    }
   ],
   "source": [
    "df_Cancer_Patient.groupby('Level')['Dust Allergy'].mean()"
   ]
  },
  {
   "cell_type": "code",
   "execution_count": 268,
   "id": "84dff3f4-727e-4006-9d7b-d8fd17783560",
   "metadata": {},
   "outputs": [
    {
     "data": {
      "text/plain": [
       "<Axes: xlabel='Level'>"
      ]
     },
     "execution_count": 268,
     "metadata": {},
     "output_type": "execute_result"
    },
    {
     "data": {
      "image/png": "[encoded data removed]",
      "text/plain": [
       "<Figure size 640x480 with 1 Axes>"
      ]
     },
     "metadata": {},
     "output_type": "display_data"
    }
   ],
   "source": [
    "# visualize the graph\n",
    "df_Cancer_Patient.groupby('Level')['Dust Allergy'].mean().plot(kind='bar')"
   ]
  },
  {
   "cell_type": "markdown",
   "id": "cec41034-7231-41c9-a815-b1503f8ff006",
   "metadata": {},
   "source": [
    "**Interpretation**\n",
    "- we have Dust Allergy High level is 6.616438\n",
    "- we have Dust Allergy Medium level is 5.442771\n",
    "- we have Dust Allergy Low level is  3.112211\n"
   ]
  },
  {
   "cell_type": "code",
   "execution_count": null,
   "id": "b2fc1473-92f5-41df-8f43-266626076faf",
   "metadata": {},
   "outputs": [],
   "source": []
  }
 ],
 "metadata": {
  "kernelspec": {
   "display_name": "Python 3 (ipykernel)",
   "language": "python",
   "name": "python3"
  },
  "language_info": {
   "codemirror_mode": {
    "name": "ipython",
    "version": 3
   },
   "file_extension": ".py",
   "mimetype": "text/x-python",
   "name": "python",
   "nbconvert_exporter": "python",
   "pygments_lexer": "ipython3",
   "version": "3.12.7"
  }
 },
 "nbformat": 4,
 "nbformat_minor": 5
}
